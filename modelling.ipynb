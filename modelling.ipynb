{
 "cells": [
  {
   "cell_type": "code",
   "execution_count": 1,
   "metadata": {
    "scrolled": true
   },
   "outputs": [
    {
     "name": "stderr",
     "output_type": "stream",
     "text": [
      "C:\\Users\\shlomi\\AppData\\Local\\conda\\conda\\envs\\rl1\\lib\\site-packages\\h5py\\__init__.py:36: FutureWarning: Conversion of the second argument of issubdtype from `float` to `np.floating` is deprecated. In future, it will be treated as `np.float64 == np.dtype(float).type`.\n",
      "  from ._conv import register_converters as _register_converters\n",
      "Using TensorFlow backend.\n"
     ]
    }
   ],
   "source": [
    "import pandas as pd\n",
    "import numpy as np\n",
    "from tqdm import tqdm\n",
    "import os\n",
    "\n",
    "import add_features\n",
    "\n",
    "from statsmodels.tsa.stattools import adfuller\n",
    "from tensorboardX import SummaryWriter\n",
    "writer = SummaryWriter()\n",
    "\n",
    "\n",
    "%matplotlib inline\n",
    "\n",
    "PRINT = False"
   ]
  },
  {
   "cell_type": "code",
   "execution_count": 2,
   "metadata": {},
   "outputs": [],
   "source": [
    "import keras\n",
    "import torch\n",
    "import torchvision"
   ]
  },
  {
   "cell_type": "code",
   "execution_count": 3,
   "metadata": {},
   "outputs": [],
   "source": [
    "c_dir = \"C://Users/shlomi/Documents/Work/vindish/data/\"\n",
    "e_dir = \"E:\\\\Work/Vindish/created_samples/\""
   ]
  },
  {
   "cell_type": "code",
   "execution_count": 4,
   "metadata": {},
   "outputs": [],
   "source": [
    "X = torch.tensor(np.load(e_dir + \"X.npy\")).type(torch.float32)\n",
    "y = torch.tensor(np.load(e_dir + \"y.npy\")).type(torch.float32)\n",
    "features = np.load(e_dir+\"features.npy\")"
   ]
  },
  {
   "cell_type": "code",
   "execution_count": 5,
   "metadata": {},
   "outputs": [
    {
     "name": "stdout",
     "output_type": "stream",
     "text": [
      "torch.Size([49938, 10, 20]) torch.Size([49938, 5])\n",
      "torch.FloatTensor torch.FloatTensor\n"
     ]
    }
   ],
   "source": [
    "print(X.shape, y.shape)\n",
    "print(X.type(), y.type())"
   ]
  },
  {
   "cell_type": "code",
   "execution_count": 6,
   "metadata": {
    "scrolled": true
   },
   "outputs": [
    {
     "name": "stdout",
     "output_type": "stream",
     "text": [
      "0 Time_To_Expiration\n",
      "1 UX1\n",
      "2 UX2\n",
      "3 UX3\n",
      "4 UX4\n",
      "5 UX5\n",
      "6 SP500\n",
      "7 dow\n",
      "8 dom\n",
      "9 doy\n",
      "10 UX1_diff\n",
      "11 UX2_diff\n",
      "12 UX3_diff\n",
      "13 UX4_diff\n",
      "14 UX5_diff\n",
      "15 SP500_diff\n",
      "16 day_of_month\n",
      "17 day_of_week\n",
      "18 day_of_year\n",
      "19 time_of_day\n"
     ]
    }
   ],
   "source": [
    "for i, j in enumerate(features):\n",
    "    print(i, j)"
   ]
  },
  {
   "cell_type": "markdown",
   "metadata": {},
   "source": [
    "### Define Model"
   ]
  },
  {
   "cell_type": "code",
   "execution_count": 7,
   "metadata": {},
   "outputs": [],
   "source": [
    "class MiniConv2d(torch.nn.Module):\n",
    "    def __init__(self):\n",
    "        super(MiniConv2d, self).__init__()\n",
    "        self.conv1 = torch.nn.Conv2d(1, 5, 3, padding=1)\n",
    "        self.conv2 = torch.nn.Conv2d(5, 5, 3, padding=1)\n",
    "        self.conv3 = torch.nn.Conv2d(5, 5, 3, padding=1)\n",
    "        self.conv4 = torch.nn.Conv2d(5, 5, 3, padding=1)\n",
    "        self.conv5 = torch.nn.Conv2d(5, 5, 3, padding=1)\n",
    "        self.conv6 = torch.nn.Conv2d(5, 5, 3, padding=1)\n",
    "        self.conv7 = torch.nn.Conv2d(5, 5, 3, padding=1)\n",
    "    def forward(self, x):\n",
    "        x = self.conv1(x)\n",
    "        x = torch.nn.functional.relu(x)\n",
    "        x = self.conv2(x)\n",
    "        x = torch.nn.functional.relu(x)\n",
    "        x = self.conv3(x)\n",
    "        x = torch.nn.functional.relu(x)\n",
    "        x = self.conv4(x)\n",
    "        x = torch.nn.functional.relu(x)\n",
    "        x = self.conv5(x)\n",
    "        x = torch.nn.functional.relu(x)\n",
    "        x = self.conv6(x)\n",
    "        x = torch.nn.functional.relu(x)\n",
    "        x = self.conv7(x)\n",
    "        x = torch.nn.functional.relu(x)\n",
    "        \n",
    "        return x"
   ]
  },
  {
   "cell_type": "raw",
   "metadata": {},
   "source": [
    "mini_conv2d = MiniConv2d()\n",
    "mini_conv2d(X[:3, :5].unsqueeze_(1))"
   ]
  },
  {
   "cell_type": "code",
   "execution_count": 8,
   "metadata": {},
   "outputs": [],
   "source": [
    "class MiniConv1d(torch.nn.Module):\n",
    "    def __init__(self, init_kernel_size=(3, 2)):\n",
    "        super(MiniConv1d, self).__init__()\n",
    "        self.conv1 = torch.nn.Conv2d(1, 5, init_kernel_size, padding=(1, 1))\n",
    "        self.conv2 = torch.nn.Conv2d(5, 5, (3, 3), padding=(1, 1))\n",
    "        self.conv3 = torch.nn.Conv2d(5, 5, (3, 3), padding=(1, 1))\n",
    "        self.conv4 = torch.nn.Conv2d(5, 5, (3, 3), padding=(1, 1))\n",
    "        self.conv5 = torch.nn.Conv2d(5, 5, (3, 3), padding=(1, 1))\n",
    "        self.conv6 = torch.nn.Conv2d(5, 5, (3, 3), padding=(1, 1))\n",
    "        self.conv7 = torch.nn.Conv2d(5, 5, (3, 3), padding=(1, 1))\n",
    "        \n",
    "    def forward(self, x):\n",
    "        x = self.conv1(x)\n",
    "        x = torch.nn.functional.relu(x)\n",
    "        x = self.conv2(x)\n",
    "        x = torch.nn.functional.relu(x)\n",
    "        x = self.conv3(x)\n",
    "        x = torch.nn.functional.relu(x)\n",
    "        x = self.conv4(x)\n",
    "        x = torch.nn.functional.relu(x)\n",
    "        x = self.conv5(x)\n",
    "        x = torch.nn.functional.relu(x)\n",
    "        x = self.conv6(x)\n",
    "        x = torch.nn.functional.relu(x)\n",
    "        x = self.conv7(x)\n",
    "        x = torch.nn.functional.relu(x)\n",
    "        \n",
    "        return x"
   ]
  },
  {
   "cell_type": "raw",
   "metadata": {},
   "source": [
    "mini_conv1d = MiniConv1d()\n",
    "mini_conv1d(X[:3, :5].unsqueeze_(1))"
   ]
  },
  {
   "cell_type": "raw",
   "metadata": {},
   "source": [
    "mini_conv_singles = MiniConv1d(init_kernel_size=(3,3))\n",
    "singles = X[:, :,  [0, 18, 19]].unsqueeze_(1)\n",
    "mini_conv_singles(singles)"
   ]
  },
  {
   "cell_type": "code",
   "execution_count": 9,
   "metadata": {},
   "outputs": [],
   "source": [
    "class Embeddings(torch.nn.Module):\n",
    "    def __init__(self, n_categories, n_dims):\n",
    "        super(Embeddings, self).__init__()\n",
    "        self.embed = torch.nn.Embedding(n_categories, n_dims)\n",
    "        \n",
    "    def forward(self, x):\n",
    "        x = self.embed(x)\n",
    "        \n",
    "        return x"
   ]
  },
  {
   "cell_type": "raw",
   "metadata": {},
   "source": [
    "embed = torch.nn.Embedding(6, 2)\n",
    "embed(torch.tensor([[1,1,3,4], [1,1,3,4]])).shape"
   ]
  },
  {
   "cell_type": "raw",
   "metadata": {},
   "source": [
    "embed = Embeddings(7, 2)\n",
    "embed(X[:, :, 7].type(torch.long)).shape"
   ]
  },
  {
   "cell_type": "code",
   "execution_count": 10,
   "metadata": {},
   "outputs": [],
   "source": [
    "class Model(torch.nn.Module):\n",
    "    def __init__(self):\n",
    "        super(Model, self).__init__()\n",
    "        self.mini_conv_ux = MiniConv2d()\n",
    "        self.mini_conv_ux_diffs = MiniConv2d()\n",
    "        self.mini_conv_snp = MiniConv1d()\n",
    "        self.mini_conv_singles = MiniConv1d(init_kernel_size=(3,3))\n",
    "        self.embed_dow = Embeddings(7, 3)\n",
    "        self.embed_dom = Embeddings(31, 5)\n",
    "        \n",
    "        self.fc1 = torch.nn.Linear(880, 64)\n",
    "        self.fc2 = torch.nn.Linear(64, 32)\n",
    "        self.fc3 = torch.nn.Linear(32, 5)\n",
    "        \n",
    "        \n",
    "    def forward(self, x):\n",
    "        ux_vals = x[:, :, 1:6].unsqueeze_(1)\n",
    "        ux_diffs = x[:, :, 10:15].unsqueeze_(1)\n",
    "        snp_data = x[:, :, [6,15]].unsqueeze_(1)\n",
    "        singles = x[:, :,  [0, 18, 19]].unsqueeze_(1) # time_to_expiration, doy, time_of_day\n",
    "        \n",
    "        dow = x[:, :, 17].type(torch.long)\n",
    "        dom = x[:, :, 16].type(torch.long)\n",
    "        \n",
    "        x_ux = self.mini_conv_ux(ux_vals).view(x.shape[0], -1)\n",
    "        x_diffs = self.mini_conv_ux_diffs(ux_diffs).view(x.shape[0], -1)\n",
    "        x_snp = self.mini_conv_snp(snp_data).view(x.shape[0], -1)\n",
    "        x_dow = self.embed_dow(dow).view(x.shape[0], -1)\n",
    "        x_dom = self.embed_dom(dom).view(x.shape[0], -1)\n",
    "        x_singles = self.mini_conv_singles(singles).view(x.shape[0], -1)\n",
    "        \n",
    "        x = torch.cat((x_ux, x_diffs, x_snp, x_dom, x_dow, x_singles), 1)\n",
    "        \n",
    "        x = torch.nn.functional.relu(self.fc1(x))\n",
    "        x = torch.nn.functional.relu(self.fc2(x))\n",
    "        x = self.fc3(x)\n",
    "        \n",
    "        return x"
   ]
  },
  {
   "cell_type": "markdown",
   "metadata": {},
   "source": [
    "### split train/test"
   ]
  },
  {
   "cell_type": "code",
   "execution_count": 11,
   "metadata": {},
   "outputs": [],
   "source": [
    "device = torch.device('cuda' if torch.cuda.is_available() else 'cpu')"
   ]
  },
  {
   "cell_type": "code",
   "execution_count": 12,
   "metadata": {},
   "outputs": [],
   "source": [
    "from torch.utils.data import DataLoader\n",
    "from torch.utils.data import TensorDataset"
   ]
  },
  {
   "cell_type": "code",
   "execution_count": 13,
   "metadata": {},
   "outputs": [],
   "source": [
    "BATCH_SIZE = 64\n",
    "betas = torch.from_numpy(np.array([0.62, 0.44, 0.32, 0.26, 0.21])).type(torch.Tensor).to(device)"
   ]
  },
  {
   "cell_type": "code",
   "execution_count": 14,
   "metadata": {},
   "outputs": [],
   "source": [
    "n_train = int(X.shape[0]*0.6)\n",
    "n_val = int(X.shape[0]*0.8)\n",
    "\n",
    "X_train = X[:n_train]\n",
    "y_train = y[:n_train]\n",
    "\n",
    "X_val = X[n_train:n_val]\n",
    "y_val = y[n_train:n_val]\n",
    "\n",
    "# dropping all end of period samples:\n",
    "ser = pd.Series(X_train[:, -1, 0].detach().numpy())\n",
    "idx_to_keep = ser[ser>0.3].index.values\n",
    "X_train = X_train[idx_to_keep]\n",
    "y_train = y_train[idx_to_keep]\n",
    "\n",
    "ser = pd.Series(X_val[:, -1, 0].detach().numpy())\n",
    "idx_to_keep = ser[ser>0.3].index.values\n",
    "X_val = X_val[idx_to_keep]\n",
    "y_val = y_val[idx_to_keep]\n",
    "\n",
    "\n",
    "X_test = X[n_val:]\n",
    "y_test = y[n_val:]"
   ]
  },
  {
   "cell_type": "code",
   "execution_count": 15,
   "metadata": {},
   "outputs": [],
   "source": [
    "train_ds = TensorDataset(X_train, y_train)\n",
    "train_dl = DataLoader(train_ds, batch_size=BATCH_SIZE, shuffle=True)\n",
    "\n",
    "val_ds = TensorDataset(X_val, y_val)\n",
    "val_dl = DataLoader(val_ds, batch_size=BATCH_SIZE, shuffle=False)\n",
    "\n",
    "test_ds = TensorDataset(X_test, y_test)\n",
    "test_dl = DataLoader(test_ds, batch_size=1)"
   ]
  },
  {
   "cell_type": "markdown",
   "metadata": {},
   "source": [
    "### Run Model"
   ]
  },
  {
   "cell_type": "code",
   "execution_count": 16,
   "metadata": {},
   "outputs": [],
   "source": [
    "model = Model()\n",
    "# print(model)\n",
    "# model.fc3.weight.data = (torch.zeros_like(model.fc3.weight, requires_grad=True, device=device))\n",
    "# model.fc3.bias.data = torch.tensor([200., 0., 0., 0., 0.], requires_grad=True, device=device)\n",
    "\n",
    "model = model.to(device)\n",
    "# print(model)"
   ]
  },
  {
   "cell_type": "raw",
   "metadata": {},
   "source": [
    "model.forward(X_train[:BATCH_SIZE]).shape, X_train[:BATCH_SIZE].shape"
   ]
  },
  {
   "cell_type": "raw",
   "metadata": {},
   "source": [
    "for i in model.parameters():\n",
    "    print(i)"
   ]
  },
  {
   "cell_type": "code",
   "execution_count": 17,
   "metadata": {},
   "outputs": [],
   "source": [
    "def get_profit(y, x, alphas):\n",
    "    if PRINT:\n",
    "        print(\"Xs:\\n\", x[0].cpu())\n",
    "        print(\"ys:\\n\", y[0].cpu())\n",
    "\n",
    "    L3 = ((y - x)*alphas).sum(dim=1)\n",
    "\n",
    "    if PRINT:\n",
    "        print(\"L3s:\\n\", L3[:2].cpu())\n",
    "    return L3"
   ]
  },
  {
   "cell_type": "code",
   "execution_count": 18,
   "metadata": {},
   "outputs": [],
   "source": [
    "def get_dist_from_200(alphas):\n",
    "    return (alphas.abs().sum(dim=1)-200.)"
   ]
  },
  {
   "cell_type": "code",
   "execution_count": 19,
   "metadata": {},
   "outputs": [],
   "source": [
    "def get_hedging_score(alphas, betas):\n",
    "    return (alphas*betas).sum(dim=1)"
   ]
  },
  {
   "cell_type": "code",
   "execution_count": 20,
   "metadata": {},
   "outputs": [],
   "source": [
    "def calc_loss(alphas, betas, x_batch, y_batch):\n",
    "    a = 1\n",
    "    b = 10\n",
    "    c = 10000\n",
    "    \n",
    "    L1 = get_dist_from_200(alphas)**2\n",
    "    L2 = get_hedging_score(alphas, betas)**2 \n",
    "    L3 = get_profit(y_batch, x_batch[:, -1, 1:6], alphas)\n",
    "    L = a*L1 + b*L2 - c*L3\n",
    "    \n",
    "#     print(L1.size(), L2.size(), L3.size())\n",
    "    \n",
    "    return L.sum()"
   ]
  },
  {
   "cell_type": "raw",
   "metadata": {},
   "source": [
    "x.dtype, y.dtype, betas.dtype, alphas.dtype"
   ]
  },
  {
   "cell_type": "code",
   "execution_count": 21,
   "metadata": {},
   "outputs": [],
   "source": [
    "optimizer = torch.optim.Adam(model.parameters(), lr=0.0001)"
   ]
  },
  {
   "cell_type": "code",
   "execution_count": 22,
   "metadata": {
    "scrolled": true
   },
   "outputs": [
    {
     "name": "stdout",
     "output_type": "stream",
     "text": [
      "2355502.8\n",
      "140522.64\n",
      "-22184.082\n",
      "1640.7177\n",
      "-1457.0676\n",
      "epoch = 0; mean_epoch_loss = 550494.375; val_loss = -1457.068; dist_from_200_loss = 4.604; betas_loss = -0.757; mean_buy_sell_expenses = 0.412; mean_profit = 0.006550; mean_profit_with_expenses = 0.006139;\n",
      "saving model.\n",
      "52259.855\n",
      "-40832.86\n",
      "31133.887\n",
      "13094.133\n",
      "452.9683\n",
      "epoch = 1; mean_epoch_loss = 15537.808; val_loss = 452.968; dist_from_200_loss = 5.943; betas_loss = 0.466; mean_buy_sell_expenses = 0.410; mean_profit = 0.004702; mean_profit_with_expenses = 0.004291;\n",
      "not saving model.\n",
      "-8075.5654\n",
      "-13748.932\n",
      "7844.601\n",
      "58545.406\n",
      "-1538.0736\n",
      "epoch = 2; mean_epoch_loss = 15026.100; val_loss = -1538.074; dist_from_200_loss = 3.628; betas_loss = -0.413; mean_buy_sell_expenses = 0.405; mean_profit = 0.005794; mean_profit_with_expenses = 0.005390;\n",
      "saving model.\n",
      "-22714.744\n",
      "38777.64\n",
      "28405.85\n",
      "27270.375\n",
      "-1760.8412\n",
      "epoch = 3; mean_epoch_loss = 15102.746; val_loss = -1760.841; dist_from_200_loss = -0.065; betas_loss = 0.415; mean_buy_sell_expenses = 0.395; mean_profit = 0.004354; mean_profit_with_expenses = 0.003958;\n",
      "saving model.\n",
      "1924.9169\n",
      "55541.676\n",
      "-11103.402\n",
      "2769.0945\n",
      "-567.4808\n",
      "epoch = 4; mean_epoch_loss = 14660.776; val_loss = -567.481; dist_from_200_loss = 4.175; betas_loss = 0.393; mean_buy_sell_expenses = 0.400; mean_profit = 0.004392; mean_profit_with_expenses = 0.003992;\n",
      "not saving model.\n",
      "-12534.475\n",
      "-24721.338\n",
      "49856.76\n",
      "53775.4\n",
      "9757.265\n",
      "epoch = 5; mean_epoch_loss = 13594.072; val_loss = 9757.265; dist_from_200_loss = 12.213; betas_loss = 1.330; mean_buy_sell_expenses = 0.408; mean_profit = 0.003072; mean_profit_with_expenses = 0.002664;\n",
      "Epoch     5: reducing learning rate of group 0 to 3.3000e-05.\n",
      "not saving model.\n",
      "28307.703\n",
      "4687.1206\n",
      "-23301.373\n",
      "-9901.46\n",
      "5031.7573\n",
      "epoch = 6; mean_epoch_loss = 10920.039; val_loss = 5031.757; dist_from_200_loss = 10.495; betas_loss = -1.381; mean_buy_sell_expenses = 0.405; mean_profit = 0.006932; mean_profit_with_expenses = 0.006527;\n",
      "not saving model.\n",
      "49622.07\n",
      "2799.2078\n",
      "1981.3627\n",
      "-17207.592\n",
      "195.14607\n",
      "epoch = 7; mean_epoch_loss = 10663.964; val_loss = 195.146; dist_from_200_loss = 6.194; betas_loss = -0.448; mean_buy_sell_expenses = 0.397; mean_profit = 0.005438; mean_profit_with_expenses = 0.005041;\n",
      "Epoch     7: reducing learning rate of group 0 to 1.0890e-05.\n",
      "not saving model.\n",
      "36001.83\n",
      "-17851.023\n",
      "24644.63\n",
      "18149.764\n",
      "5797.317\n",
      "epoch = 8; mean_epoch_loss = 10258.949; val_loss = 5797.317; dist_from_200_loss = 10.998; betas_loss = 0.103; mean_buy_sell_expenses = 0.405; mean_profit = 0.004739; mean_profit_with_expenses = 0.004335;\n",
      "not saving model.\n",
      "46165.684\n",
      "13994.661\n",
      "13877.22\n",
      "-27619.812\n",
      "4132.849\n",
      "epoch = 9; mean_epoch_loss = 9978.420; val_loss = 4132.849; dist_from_200_loss = 9.238; betas_loss = 0.570; mean_buy_sell_expenses = 0.402; mean_profit = 0.004006; mean_profit_with_expenses = 0.003605;\n",
      "Epoch     9: reducing learning rate of group 0 to 3.5937e-06.\n",
      "not saving model.\n",
      "-20996.705\n",
      "38227.42\n",
      "6302.861\n",
      "17199.316\n",
      "3327.5537\n",
      "epoch = 10; mean_epoch_loss = 9735.712; val_loss = 3327.554; dist_from_200_loss = 8.693; betas_loss = 0.444; mean_buy_sell_expenses = 0.401; mean_profit = 0.004172; mean_profit_with_expenses = 0.003771;\n",
      "not saving model.\n",
      "4270.112\n",
      "-15177.049\n",
      "27379.455\n",
      "19666.727\n",
      "3093.7588\n",
      "epoch = 11; mean_epoch_loss = 9744.317; val_loss = 3093.759; dist_from_200_loss = 8.570; betas_loss = 0.368; mean_buy_sell_expenses = 0.400; mean_profit = 0.004273; mean_profit_with_expenses = 0.003873;\n",
      "Epoch    11: reducing learning rate of group 0 to 1.1859e-06.\n",
      "not saving model.\n",
      "20606.086\n",
      "27568.904\n",
      "4108.2393\n",
      "13701.05\n",
      "3181.9104\n",
      "epoch = 12; mean_epoch_loss = 9587.381; val_loss = 3181.910; dist_from_200_loss = 8.672; betas_loss = 0.350; mean_buy_sell_expenses = 0.401; mean_profit = 0.004301; mean_profit_with_expenses = 0.003901;\n",
      "not saving model.\n",
      "-29707.01\n",
      "22856.123\n",
      "50801.215\n",
      "16142.43\n",
      "3079.584\n",
      "epoch = 13; mean_epoch_loss = 9577.256; val_loss = 3079.584; dist_from_200_loss = 8.562; betas_loss = 0.362; mean_buy_sell_expenses = 0.400; mean_profit = 0.004279; mean_profit_with_expenses = 0.003878;\n",
      "Epoch    13: reducing learning rate of group 0 to 3.9135e-07.\n",
      "not saving model.\n",
      "1807.3221\n",
      "20969.137\n",
      "22739.627\n",
      "11557.822\n",
      "3133.7422\n",
      "epoch = 14; mean_epoch_loss = 9537.673; val_loss = 3133.742; dist_from_200_loss = 8.620; betas_loss = 0.355; mean_buy_sell_expenses = 0.401; mean_profit = 0.004290; mean_profit_with_expenses = 0.003889;\n",
      "not saving model.\n",
      "51944.3\n",
      "-28764.377\n",
      "-22740.36\n",
      "35095.285\n",
      "3182.2068\n",
      "epoch = 15; mean_epoch_loss = 9526.562; val_loss = 3182.207; dist_from_200_loss = 8.667; betas_loss = 0.353; mean_buy_sell_expenses = 0.401; mean_profit = 0.004294; mean_profit_with_expenses = 0.003893;\n",
      "Epoch    15: reducing learning rate of group 0 to 1.2915e-07.\n",
      "not saving model.\n",
      "-1983.3309\n",
      "52130.88\n",
      "-4371.411\n",
      "-16965.633\n",
      "3156.2334\n",
      "epoch = 16; mean_epoch_loss = 9511.797; val_loss = 3156.233; dist_from_200_loss = 8.647; betas_loss = 0.350; mean_buy_sell_expenses = 0.401; mean_profit = 0.004298; mean_profit_with_expenses = 0.003897;\n",
      "not saving model.\n",
      "47059.75\n",
      "-30189.627\n",
      "-9795.388\n",
      "28841.45\n",
      "3159.4932\n",
      "epoch = 17; mean_epoch_loss = 9509.717; val_loss = 3159.493; dist_from_200_loss = 8.648; betas_loss = 0.351; mean_buy_sell_expenses = 0.401; mean_profit = 0.004295; mean_profit_with_expenses = 0.003894;\n",
      "Epoch    17: reducing learning rate of group 0 to 4.2618e-08.\n",
      "not saving model.\n",
      "14693.862\n",
      "73055.69\n",
      "12261.277\n",
      "-61045.51\n",
      "3159.2256\n",
      "epoch = 18; mean_epoch_loss = 9505.253; val_loss = 3159.226; dist_from_200_loss = 8.648; betas_loss = 0.351; mean_buy_sell_expenses = 0.401; mean_profit = 0.004296; mean_profit_with_expenses = 0.003895;\n",
      "not saving model.\n",
      "-2046.0576\n",
      "-6962.3\n",
      "11529.02\n",
      "37661.203\n",
      "3155.1243\n",
      "epoch = 19; mean_epoch_loss = 9504.667; val_loss = 3155.124; dist_from_200_loss = 8.644; betas_loss = 0.351; mean_buy_sell_expenses = 0.401; mean_profit = 0.004296; mean_profit_with_expenses = 0.003895;\n",
      "Epoch    19: reducing learning rate of group 0 to 1.4064e-08.\n",
      "not saving model.\n",
      "35573.684\n",
      "48801.684\n",
      "-54484.81\n",
      "19680.271\n",
      "3155.8928\n",
      "epoch = 20; mean_epoch_loss = 9502.573; val_loss = 3155.893; dist_from_200_loss = 8.645; betas_loss = 0.351; mean_buy_sell_expenses = 0.401; mean_profit = 0.004296; mean_profit_with_expenses = 0.003896;\n",
      "not saving model.\n",
      "5098.296\n",
      "7131.339\n",
      "20595.863\n",
      "10579.957\n",
      "3155.0166\n",
      "epoch = 21; mean_epoch_loss = 9502.359; val_loss = 3155.017; dist_from_200_loss = 8.644; betas_loss = 0.351; mean_buy_sell_expenses = 0.401; mean_profit = 0.004296; mean_profit_with_expenses = 0.003896;\n",
      "not saving model.\n",
      "-32973.184\n",
      "10275.575\n",
      "42829.023\n",
      "2546.1191\n",
      "3158.8\n",
      "epoch = 22; mean_epoch_loss = 9502.408; val_loss = 3158.800; dist_from_200_loss = 8.648; betas_loss = 0.351; mean_buy_sell_expenses = 0.401; mean_profit = 0.004296; mean_profit_with_expenses = 0.003895;\n",
      "not saving model.\n",
      "-15024.23\n",
      "14028.457\n",
      "10948.934\n",
      "41152.254\n",
      "3157.6787\n",
      "epoch = 23; mean_epoch_loss = 9502.574; val_loss = 3157.679; dist_from_200_loss = 8.647; betas_loss = 0.351; mean_buy_sell_expenses = 0.401; mean_profit = 0.004296; mean_profit_with_expenses = 0.003896;\n",
      "not saving model.\n",
      "52482.57\n",
      "-13192.122\n",
      "15209.438\n",
      "-7287.3394\n",
      "3156.4543\n",
      "epoch = 24; mean_epoch_loss = 9502.307; val_loss = 3156.454; dist_from_200_loss = 8.646; betas_loss = 0.351; mean_buy_sell_expenses = 0.401; mean_profit = 0.004296; mean_profit_with_expenses = 0.003895;\n",
      "not saving model.\n",
      "-34185.87\n",
      "7938.1675\n",
      "44424.55\n",
      "20549.623\n",
      "3154.7998\n",
      "epoch = 25; mean_epoch_loss = 9502.283; val_loss = 3154.800; dist_from_200_loss = 8.644; betas_loss = 0.351; mean_buy_sell_expenses = 0.401; mean_profit = 0.004296; mean_profit_with_expenses = 0.003895;\n",
      "not saving model.\n",
      "16820.572\n",
      "-24639.875\n",
      "8292.354\n",
      "37151.344\n",
      "3154.3533\n",
      "epoch = 26; mean_epoch_loss = 9502.249; val_loss = 3154.353; dist_from_200_loss = 8.643; betas_loss = 0.351; mean_buy_sell_expenses = 0.401; mean_profit = 0.004296; mean_profit_with_expenses = 0.003895;\n",
      "not saving model.\n",
      "44352.703\n",
      "-9503.026\n",
      "4666.1245\n",
      "19523.713\n",
      "3155.8735\n",
      "epoch = 27; mean_epoch_loss = 9502.234; val_loss = 3155.874; dist_from_200_loss = 8.645; betas_loss = 0.351; mean_buy_sell_expenses = 0.401; mean_profit = 0.004296; mean_profit_with_expenses = 0.003895;\n",
      "not saving model.\n",
      "-28508.627\n",
      "19485.824\n",
      "7025.2695\n",
      "58587.38\n",
      "3156.0422\n"
     ]
    },
    {
     "name": "stdout",
     "output_type": "stream",
     "text": [
      "epoch = 28; mean_epoch_loss = 9502.171; val_loss = 3156.042; dist_from_200_loss = 8.645; betas_loss = 0.351; mean_buy_sell_expenses = 0.401; mean_profit = 0.004296; mean_profit_with_expenses = 0.003895;\n",
      "not saving model.\n",
      "-13973.762\n",
      "4252.5654\n",
      "24617.197\n",
      "2344.0674\n",
      "3157.4102\n",
      "epoch = 29; mean_epoch_loss = 9502.099; val_loss = 3157.410; dist_from_200_loss = 8.647; betas_loss = 0.351; mean_buy_sell_expenses = 0.401; mean_profit = 0.004296; mean_profit_with_expenses = 0.003895;\n",
      "not saving model.\n",
      "-8754.813\n",
      "9589.094\n",
      "26531.918\n",
      "13774.395\n",
      "3153.7117\n",
      "epoch = 30; mean_epoch_loss = 9502.117; val_loss = 3153.712; dist_from_200_loss = 8.643; betas_loss = 0.351; mean_buy_sell_expenses = 0.401; mean_profit = 0.004296; mean_profit_with_expenses = 0.003895;\n",
      "not saving model.\n",
      "-4580.4272\n",
      "-40996.965\n",
      "20145.223\n",
      "69279.42\n",
      "3154.0137\n",
      "epoch = 31; mean_epoch_loss = 9502.169; val_loss = 3154.014; dist_from_200_loss = 8.644; betas_loss = 0.351; mean_buy_sell_expenses = 0.401; mean_profit = 0.004296; mean_profit_with_expenses = 0.003896;\n",
      "not saving model.\n",
      "5733.418\n",
      "30968.734\n",
      "5930.4614\n",
      "3193.5913\n",
      "3154.048\n",
      "epoch = 32; mean_epoch_loss = 9502.020; val_loss = 3154.048; dist_from_200_loss = 8.644; betas_loss = 0.350; mean_buy_sell_expenses = 0.401; mean_profit = 0.004296; mean_profit_with_expenses = 0.003896;\n",
      "not saving model.\n",
      "29661.79\n",
      "-9609.135\n",
      "22601.508\n",
      "-6855.544\n",
      "3151.5156\n",
      "epoch = 33; mean_epoch_loss = 9501.900; val_loss = 3151.516; dist_from_200_loss = 8.641; betas_loss = 0.350; mean_buy_sell_expenses = 0.401; mean_profit = 0.004296; mean_profit_with_expenses = 0.003896;\n",
      "not saving model.\n",
      "-1797.494\n",
      "-20511.936\n",
      "16748.371\n",
      "24000.242\n",
      "3153.3254\n",
      "epoch = 34; mean_epoch_loss = 9502.182; val_loss = 3153.325; dist_from_200_loss = 8.643; betas_loss = 0.350; mean_buy_sell_expenses = 0.401; mean_profit = 0.004296; mean_profit_with_expenses = 0.003896;\n",
      "not saving model.\n",
      "-2767.9465\n",
      "8428.451\n",
      "23584.043\n",
      "-1839.1034\n",
      "3153.677\n",
      "epoch = 35; mean_epoch_loss = 9501.777; val_loss = 3153.677; dist_from_200_loss = 8.643; betas_loss = 0.350; mean_buy_sell_expenses = 0.401; mean_profit = 0.004296; mean_profit_with_expenses = 0.003896;\n",
      "not saving model.\n",
      "33088.188\n",
      "18450.402\n",
      "43169.184\n",
      "-13475.091\n",
      "3146.8633\n",
      "epoch = 36; mean_epoch_loss = 9502.158; val_loss = 3146.863; dist_from_200_loss = 8.637; betas_loss = 0.350; mean_buy_sell_expenses = 0.401; mean_profit = 0.004296; mean_profit_with_expenses = 0.003896;\n",
      "not saving model.\n",
      "22584.56\n",
      "17986.102\n",
      "19226.504\n",
      "-11197.05\n",
      "3148.9724\n",
      "epoch = 37; mean_epoch_loss = 9501.797; val_loss = 3148.972; dist_from_200_loss = 8.639; betas_loss = 0.350; mean_buy_sell_expenses = 0.401; mean_profit = 0.004296; mean_profit_with_expenses = 0.003896;\n",
      "not saving model.\n",
      "22136.773\n",
      "25283.762\n",
      "-5532.786\n",
      "-341.13342\n",
      "3149.8362\n",
      "epoch = 38; mean_epoch_loss = 9501.540; val_loss = 3149.836; dist_from_200_loss = 8.640; betas_loss = 0.350; mean_buy_sell_expenses = 0.401; mean_profit = 0.004297; mean_profit_with_expenses = 0.003896;\n",
      "not saving model.\n",
      "19387.785\n",
      "18906.303\n",
      "-14262.062\n",
      "12416.044\n",
      "3147.9343\n",
      "epoch = 39; mean_epoch_loss = 9501.783; val_loss = 3147.934; dist_from_200_loss = 8.638; betas_loss = 0.350; mean_buy_sell_expenses = 0.401; mean_profit = 0.004296; mean_profit_with_expenses = 0.003896;\n",
      "not saving model.\n",
      "32308.512\n",
      "-9178.986\n",
      "33694.945\n",
      "-47773.18\n",
      "3150.9897\n",
      "epoch = 40; mean_epoch_loss = 9501.830; val_loss = 3150.990; dist_from_200_loss = 8.641; betas_loss = 0.350; mean_buy_sell_expenses = 0.401; mean_profit = 0.004296; mean_profit_with_expenses = 0.003896;\n",
      "not saving model.\n",
      "7246.015\n",
      "-21126.025\n",
      "20086.46\n",
      "30395.592\n",
      "3149.9163\n",
      "epoch = 41; mean_epoch_loss = 9501.704; val_loss = 3149.916; dist_from_200_loss = 8.640; betas_loss = 0.350; mean_buy_sell_expenses = 0.401; mean_profit = 0.004297; mean_profit_with_expenses = 0.003896;\n",
      "not saving model.\n",
      "49087.855\n",
      "16349.303\n",
      "16361.878\n",
      "-2061.012\n",
      "3152.6868\n",
      "epoch = 42; mean_epoch_loss = 9501.670; val_loss = 3152.687; dist_from_200_loss = 8.643; betas_loss = 0.350; mean_buy_sell_expenses = 0.401; mean_profit = 0.004296; mean_profit_with_expenses = 0.003896;\n",
      "not saving model.\n",
      "12023.527\n",
      "14453.727\n",
      "3864.8884\n",
      "22324.12\n",
      "3153.9778\n",
      "epoch = 43; mean_epoch_loss = 9501.436; val_loss = 3153.978; dist_from_200_loss = 8.644; betas_loss = 0.350; mean_buy_sell_expenses = 0.401; mean_profit = 0.004297; mean_profit_with_expenses = 0.003896;\n",
      "not saving model.\n",
      "-44473.99\n",
      "28383.25\n",
      "27500.963\n",
      "33202.87\n",
      "3153.603\n",
      "epoch = 44; mean_epoch_loss = 9501.681; val_loss = 3153.603; dist_from_200_loss = 8.644; betas_loss = 0.350; mean_buy_sell_expenses = 0.401; mean_profit = 0.004297; mean_profit_with_expenses = 0.003896;\n",
      "not saving model.\n",
      "46434.9\n",
      "-11063.327\n",
      "22567.52\n",
      "-22237.164\n",
      "3150.2117\n",
      "epoch = 45; mean_epoch_loss = 9501.362; val_loss = 3150.212; dist_from_200_loss = 8.641; betas_loss = 0.350; mean_buy_sell_expenses = 0.401; mean_profit = 0.004297; mean_profit_with_expenses = 0.003896;\n",
      "not saving model.\n",
      "25000.287\n",
      "38417.734\n",
      "-59038.97\n",
      "30087.037\n",
      "3157.3914\n",
      "epoch = 46; mean_epoch_loss = 9501.500; val_loss = 3157.391; dist_from_200_loss = 8.647; betas_loss = 0.350; mean_buy_sell_expenses = 0.401; mean_profit = 0.004297; mean_profit_with_expenses = 0.003896;\n",
      "not saving model.\n",
      "64621.51\n",
      "11880.525\n",
      "-26571.475\n",
      "13678.725\n",
      "3154.8635\n",
      "epoch = 47; mean_epoch_loss = 9501.391; val_loss = 3154.864; dist_from_200_loss = 8.645; betas_loss = 0.350; mean_buy_sell_expenses = 0.401; mean_profit = 0.004297; mean_profit_with_expenses = 0.003897;\n",
      "not saving model.\n",
      "17874.746\n",
      "-4389.3735\n",
      "-1037.5757\n",
      "22507.66\n",
      "3160.0632\n",
      "epoch = 48; mean_epoch_loss = 9501.343; val_loss = 3160.063; dist_from_200_loss = 8.650; betas_loss = 0.350; mean_buy_sell_expenses = 0.401; mean_profit = 0.004297; mean_profit_with_expenses = 0.003896;\n",
      "not saving model.\n",
      "27231.988\n",
      "11228.423\n",
      "-33736.125\n",
      "7015.115\n",
      "3160.9958\n",
      "epoch = 49; mean_epoch_loss = 9501.639; val_loss = 3160.996; dist_from_200_loss = 8.651; betas_loss = 0.350; mean_buy_sell_expenses = 0.401; mean_profit = 0.004297; mean_profit_with_expenses = 0.003897;\n",
      "not saving model.\n",
      "6569.6274\n",
      "8468.137\n",
      "13246.264\n",
      "20202.615\n",
      "3158.12\n",
      "epoch = 50; mean_epoch_loss = 9501.223; val_loss = 3158.120; dist_from_200_loss = 8.649; betas_loss = 0.349; mean_buy_sell_expenses = 0.401; mean_profit = 0.004298; mean_profit_with_expenses = 0.003897;\n",
      "not saving model.\n",
      "-23741.217\n",
      "-5499.1274\n",
      "10287.946\n",
      "55541.37\n",
      "3157.5022\n",
      "epoch = 51; mean_epoch_loss = 9501.353; val_loss = 3157.502; dist_from_200_loss = 8.648; betas_loss = 0.349; mean_buy_sell_expenses = 0.401; mean_profit = 0.004298; mean_profit_with_expenses = 0.003897;\n",
      "not saving model.\n",
      "3942.0305\n",
      "16002.786\n",
      "29796.24\n",
      "-13453.572\n",
      "3156.4194\n",
      "epoch = 52; mean_epoch_loss = 9501.126; val_loss = 3156.419; dist_from_200_loss = 8.647; betas_loss = 0.349; mean_buy_sell_expenses = 0.401; mean_profit = 0.004298; mean_profit_with_expenses = 0.003897;\n",
      "not saving model.\n",
      "615.25525\n",
      "13327.829\n",
      "9490.799\n",
      "-7858.345\n",
      "3155.3762\n",
      "epoch = 53; mean_epoch_loss = 9500.964; val_loss = 3155.376; dist_from_200_loss = 8.646; betas_loss = 0.349; mean_buy_sell_expenses = 0.401; mean_profit = 0.004298; mean_profit_with_expenses = 0.003897;\n",
      "not saving model.\n",
      "-29.232422\n",
      "-4673.223\n",
      "-6386.3213\n",
      "25313.41\n",
      "3152.7078\n",
      "epoch = 54; mean_epoch_loss = 9501.270; val_loss = 3152.708; dist_from_200_loss = 8.644; betas_loss = 0.349; mean_buy_sell_expenses = 0.401; mean_profit = 0.004298; mean_profit_with_expenses = 0.003897;\n",
      "not saving model.\n",
      "1638.3774\n",
      "29902.877\n",
      "-25146.242\n",
      "-10228.121\n",
      "3154.893\n",
      "epoch = 55; mean_epoch_loss = 9500.912; val_loss = 3154.893; dist_from_200_loss = 8.646; betas_loss = 0.349; mean_buy_sell_expenses = 0.401; mean_profit = 0.004298; mean_profit_with_expenses = 0.003897;\n",
      "not saving model.\n",
      "42269.14\n",
      "-14480.912\n",
      "19353.654\n",
      "-7957.0176\n",
      "3153.3416\n",
      "epoch = 56; mean_epoch_loss = 9500.879; val_loss = 3153.342; dist_from_200_loss = 8.644; betas_loss = 0.349; mean_buy_sell_expenses = 0.401; mean_profit = 0.004298; mean_profit_with_expenses = 0.003897;\n",
      "not saving model.\n",
      "-13076.719\n",
      "23637.373\n",
      "-22174.926\n",
      "38025.203\n",
      "3150.539\n",
      "epoch = 57; mean_epoch_loss = 9500.813; val_loss = 3150.539; dist_from_200_loss = 8.642; betas_loss = 0.349; mean_buy_sell_expenses = 0.401; mean_profit = 0.004298; mean_profit_with_expenses = 0.003897;\n",
      "not saving model.\n",
      "38582.727\n",
      "-30561.422\n",
      "50493.703\n",
      "11858.317\n",
      "3148.8682\n"
     ]
    },
    {
     "name": "stdout",
     "output_type": "stream",
     "text": [
      "epoch = 58; mean_epoch_loss = 9500.883; val_loss = 3148.868; dist_from_200_loss = 8.640; betas_loss = 0.349; mean_buy_sell_expenses = 0.401; mean_profit = 0.004298; mean_profit_with_expenses = 0.003897;\n",
      "not saving model.\n",
      "-1593.391\n",
      "33034.812\n",
      "53271.92\n",
      "-865.27014\n",
      "3147.9636\n",
      "epoch = 59; mean_epoch_loss = 9501.028; val_loss = 3147.964; dist_from_200_loss = 8.640; betas_loss = 0.349; mean_buy_sell_expenses = 0.401; mean_profit = 0.004298; mean_profit_with_expenses = 0.003897;\n",
      "not saving model.\n",
      "22027.273\n",
      "25814.352\n",
      "-9644.928\n",
      "-19335.873\n",
      "3154.1733\n",
      "epoch = 60; mean_epoch_loss = 9500.791; val_loss = 3154.173; dist_from_200_loss = 8.645; betas_loss = 0.349; mean_buy_sell_expenses = 0.401; mean_profit = 0.004298; mean_profit_with_expenses = 0.003897;\n",
      "not saving model.\n",
      "-45574.773\n",
      "9384.888\n",
      "16072.687\n",
      "42204.273\n",
      "3155.571\n",
      "epoch = 61; mean_epoch_loss = 9500.697; val_loss = 3155.571; dist_from_200_loss = 8.646; betas_loss = 0.349; mean_buy_sell_expenses = 0.401; mean_profit = 0.004298; mean_profit_with_expenses = 0.003897;\n",
      "not saving model.\n",
      "31979.713\n",
      "1920.7991\n",
      "19733.498\n",
      "-18175.695\n",
      "3153.879\n",
      "epoch = 62; mean_epoch_loss = 9500.602; val_loss = 3153.879; dist_from_200_loss = 8.645; betas_loss = 0.349; mean_buy_sell_expenses = 0.401; mean_profit = 0.004298; mean_profit_with_expenses = 0.003897;\n",
      "not saving model.\n",
      "34228.277\n",
      "4033.2444\n",
      "21378.088\n",
      "-39547.266\n",
      "3154.9724\n",
      "epoch = 63; mean_epoch_loss = 9500.679; val_loss = 3154.972; dist_from_200_loss = 8.645; betas_loss = 0.349; mean_buy_sell_expenses = 0.401; mean_profit = 0.004297; mean_profit_with_expenses = 0.003897;\n",
      "not saving model.\n",
      "28864.457\n",
      "-10280.936\n",
      "9925.3125\n",
      "21299.145\n",
      "3153.3477\n",
      "epoch = 64; mean_epoch_loss = 9500.489; val_loss = 3153.348; dist_from_200_loss = 8.644; betas_loss = 0.349; mean_buy_sell_expenses = 0.401; mean_profit = 0.004297; mean_profit_with_expenses = 0.003897;\n",
      "not saving model.\n",
      "8826.577\n",
      "850.6791\n",
      "39681.074\n",
      "15258.312\n",
      "3153.2383\n",
      "epoch = 65; mean_epoch_loss = 9500.522; val_loss = 3153.238; dist_from_200_loss = 8.644; betas_loss = 0.350; mean_buy_sell_expenses = 0.401; mean_profit = 0.004297; mean_profit_with_expenses = 0.003896;\n",
      "not saving model.\n",
      "8297.847\n",
      "-12231.412\n",
      "-6633.879\n",
      "31668.568\n",
      "3154.458\n",
      "epoch = 66; mean_epoch_loss = 9500.360; val_loss = 3154.458; dist_from_200_loss = 8.645; betas_loss = 0.350; mean_buy_sell_expenses = 0.401; mean_profit = 0.004297; mean_profit_with_expenses = 0.003896;\n",
      "not saving model.\n"
     ]
    },
    {
     "ename": "KeyboardInterrupt",
     "evalue": "",
     "output_type": "error",
     "traceback": [
      "\u001b[1;31m---------------------------------------------------------------------------\u001b[0m",
      "\u001b[1;31mKeyboardInterrupt\u001b[0m                         Traceback (most recent call last)",
      "\u001b[1;32m<ipython-input-22-c855b28768c8>\u001b[0m in \u001b[0;36m<module>\u001b[1;34m()\u001b[0m\n\u001b[0;32m     16\u001b[0m         \u001b[0moptimizer\u001b[0m\u001b[1;33m.\u001b[0m\u001b[0mzero_grad\u001b[0m\u001b[1;33m(\u001b[0m\u001b[1;33m)\u001b[0m\u001b[1;33m\u001b[0m\u001b[0m\n\u001b[0;32m     17\u001b[0m         \u001b[0mloss\u001b[0m\u001b[1;33m.\u001b[0m\u001b[0mbackward\u001b[0m\u001b[1;33m(\u001b[0m\u001b[1;33m)\u001b[0m\u001b[1;33m\u001b[0m\u001b[0m\n\u001b[1;32m---> 18\u001b[1;33m         \u001b[0moptimizer\u001b[0m\u001b[1;33m.\u001b[0m\u001b[0mstep\u001b[0m\u001b[1;33m(\u001b[0m\u001b[1;33m)\u001b[0m\u001b[1;33m\u001b[0m\u001b[0m\n\u001b[0m\u001b[0;32m     19\u001b[0m \u001b[1;33m\u001b[0m\u001b[0m\n\u001b[0;32m     20\u001b[0m         \u001b[1;32mif\u001b[0m \u001b[0mi\u001b[0m\u001b[1;33m%\u001b[0m\u001b[1;36m100\u001b[0m\u001b[1;33m==\u001b[0m\u001b[1;36m99\u001b[0m\u001b[1;33m:\u001b[0m\u001b[1;33m\u001b[0m\u001b[0m\n",
      "\u001b[1;32m~\\AppData\\Local\\conda\\conda\\envs\\rl1\\lib\\site-packages\\torch\\optim\\adam.py\u001b[0m in \u001b[0;36mstep\u001b[1;34m(self, closure)\u001b[0m\n\u001b[0;32m     91\u001b[0m \u001b[1;33m\u001b[0m\u001b[0m\n\u001b[0;32m     92\u001b[0m                 \u001b[1;31m# Decay the first and second moment running average coefficient\u001b[0m\u001b[1;33m\u001b[0m\u001b[1;33m\u001b[0m\u001b[0m\n\u001b[1;32m---> 93\u001b[1;33m                 \u001b[0mexp_avg\u001b[0m\u001b[1;33m.\u001b[0m\u001b[0mmul_\u001b[0m\u001b[1;33m(\u001b[0m\u001b[0mbeta1\u001b[0m\u001b[1;33m)\u001b[0m\u001b[1;33m.\u001b[0m\u001b[0madd_\u001b[0m\u001b[1;33m(\u001b[0m\u001b[1;36m1\u001b[0m \u001b[1;33m-\u001b[0m \u001b[0mbeta1\u001b[0m\u001b[1;33m,\u001b[0m \u001b[0mgrad\u001b[0m\u001b[1;33m)\u001b[0m\u001b[1;33m\u001b[0m\u001b[0m\n\u001b[0m\u001b[0;32m     94\u001b[0m                 \u001b[0mexp_avg_sq\u001b[0m\u001b[1;33m.\u001b[0m\u001b[0mmul_\u001b[0m\u001b[1;33m(\u001b[0m\u001b[0mbeta2\u001b[0m\u001b[1;33m)\u001b[0m\u001b[1;33m.\u001b[0m\u001b[0maddcmul_\u001b[0m\u001b[1;33m(\u001b[0m\u001b[1;36m1\u001b[0m \u001b[1;33m-\u001b[0m \u001b[0mbeta2\u001b[0m\u001b[1;33m,\u001b[0m \u001b[0mgrad\u001b[0m\u001b[1;33m,\u001b[0m \u001b[0mgrad\u001b[0m\u001b[1;33m)\u001b[0m\u001b[1;33m\u001b[0m\u001b[0m\n\u001b[0;32m     95\u001b[0m                 \u001b[1;32mif\u001b[0m \u001b[0mamsgrad\u001b[0m\u001b[1;33m:\u001b[0m\u001b[1;33m\u001b[0m\u001b[0m\n",
      "\u001b[1;31mKeyboardInterrupt\u001b[0m: "
     ]
    }
   ],
   "source": [
    "losses_epoch = []\n",
    "losses_val_history = []\n",
    "mean_buy_sell_expenses = []\n",
    "scheduler = torch.optim.lr_scheduler.ReduceLROnPlateau(optimizer, patience=5, factor=0.33, verbose=True)\n",
    "\n",
    "for epoch in range(1000):\n",
    "    for i, (x, y) in enumerate(train_dl):\n",
    "        x, y = x.to(device), y.to(device)\n",
    "#         print(\"Xs:\\n\", x[:2, -1, :].cpu())\n",
    "#         print(\"ys:\\n\", y[:2, :].cpu())\n",
    "#         print(x)\n",
    "        alphas = model(x)#.type(torch.Tensor)#.to(device)        \n",
    "        loss = calc_loss(alphas, betas, x, y)\n",
    "        losses_epoch.append(loss.cpu().detach().numpy())\n",
    "        \n",
    "        optimizer.zero_grad()\n",
    "        loss.backward()\n",
    "        optimizer.step()\n",
    "        \n",
    "        if i%100==99:\n",
    "            print(np.mean(losses_epoch[-100:]))\n",
    "            \n",
    "    model.eval()\n",
    "    losses_val = []\n",
    "    L1s = []\n",
    "    L2s = []\n",
    "    profits = []\n",
    "    for x_val, y_val in val_dl:\n",
    "        x_val, y_val = x_val.to(device), y_val.to(device)\n",
    "        alphas_val = model(x_val).type(torch.Tensor).to(device)        \n",
    "        loss_val = calc_loss(alphas_val, betas, x_val, y_val)\n",
    "        losses_val.append(loss_val.cpu().detach().numpy())\n",
    "        L1s.append(get_dist_from_200(alphas_val).cpu().detach().numpy().mean())\n",
    "        L2s.append(get_hedging_score(alphas_val, betas).cpu().detach().numpy().mean())\n",
    "        profits.append(get_profit(y_val, x_val[:, -1, 1:6], alphas_val).cpu().detach().numpy().mean())\n",
    "        mean_buy_sell_expenses.append(pd.DataFrame(alphas_val.detach().cpu().numpy()).diff().abs().sum(axis=1).mean()*10)\n",
    "    \n",
    "    mean_loss_val = np.mean(losses_val)\n",
    "    losses_val_history.append(mean_loss_val)\n",
    "    mean_buy_sell_expenses = np.mean(mean_buy_sell_expenses)\n",
    "    \n",
    "    print(mean_loss_val)\n",
    "#     print(\"losses_epoch:\", losses_epoch)\n",
    "#     print(\"losses_val_history:\", losses_val_history)\n",
    "    \n",
    "    mean_L1 = np.mean(L1s)\n",
    "    mean_L2 = np.mean(L2s)\n",
    "    mean_profit = np.mean(profits)\n",
    "    mean_profit_with_expenses = mean_profit-0.001*mean_buy_sell_expenses\n",
    "\n",
    "    mean_epoch_loss = np.mean(losses_epoch)\n",
    "    print(f\"epoch = {epoch}; mean_epoch_loss = {mean_epoch_loss:.3f}; val_loss = {mean_loss_val:.3f}; dist_from_200_loss = {mean_L1:.3f}; betas_loss = {mean_L2:.3f}; mean_buy_sell_expenses = {mean_buy_sell_expenses:.3f}; mean_profit = {mean_profit:.6f}; mean_profit_with_expenses = {mean_profit_with_expenses:.6f};\")\n",
    "    scheduler.step(mean_loss_val)\n",
    "\n",
    "    if mean_loss_val<=min(losses_val_history):\n",
    "        print(\"saving model.\")\n",
    "        save_path = f\"./model_vindish_epoch_{epoch}_train_loss_{int(mean_epoch_loss)}_val_loss{int(mean_loss_val)}.pth.tar\"\n",
    "        torch.save(model.state_dict(), save_path)\n",
    "    else:\n",
    "        print(\"not saving model.\")\n",
    "    \n",
    "    lr = optimizer.param_groups[0][\"lr\"]\n",
    "\n",
    "    writer.add_scalar(\"mean_epoch_loss\", mean_epoch_loss, epoch)\n",
    "    writer.add_scalar(\"mean_loss_val\", mean_loss_val, epoch)\n",
    "    writer.add_scalar(\"dist_from_200_loss\", mean_L1, epoch)\n",
    "    writer.add_scalar(\"betas_loss\", mean_L2, epoch)\n",
    "    writer.add_scalar(\"mean_profit\", mean_profit, epoch)\n",
    "    writer.add_scalar(\"mean_profit_with_expenses\", mean_profit_with_expenses, epoch)\n",
    "    writer.add_scalar(\"mean_buy_sell_expenses\", mean_buy_sell_expenses, epoch)\n",
    "    writer.add_scalar(\"lr\", lr, epoch)\n",
    "    \n",
    "    losses_epoch = []; L1s = [];  L2s = []; profits = []; mean_buy_sell_expenses=[]\n",
    "\n",
    "    model.train()\n"
   ]
  },
  {
   "cell_type": "code",
   "execution_count": null,
   "metadata": {
    "scrolled": true
   },
   "outputs": [],
   "source": [
    "(1+mean_profit)**(6*8*200)"
   ]
  },
  {
   "cell_type": "code",
   "execution_count": null,
   "metadata": {},
   "outputs": [],
   "source": [
    "xx = X_test[:2]\n",
    "# xx\n",
    "xx[:, -1, 1:6]"
   ]
  },
  {
   "cell_type": "code",
   "execution_count": null,
   "metadata": {},
   "outputs": [],
   "source": [
    "yy = y_test[:2]\n",
    "yy"
   ]
  },
  {
   "cell_type": "code",
   "execution_count": null,
   "metadata": {},
   "outputs": [],
   "source": [
    "alphas = model.to(\"cpu\")(xx)\n",
    "print(alphas)"
   ]
  },
  {
   "cell_type": "code",
   "execution_count": null,
   "metadata": {},
   "outputs": [],
   "source": [
    "alphas.abs().cpu().detach().numpy().sum(axis=1)"
   ]
  },
  {
   "cell_type": "code",
   "execution_count": null,
   "metadata": {},
   "outputs": [],
   "source": [
    "alphas@betas.to(\"cpu\")"
   ]
  },
  {
   "cell_type": "code",
   "execution_count": null,
   "metadata": {},
   "outputs": [],
   "source": [
    "betas"
   ]
  },
  {
   "cell_type": "code",
   "execution_count": null,
   "metadata": {},
   "outputs": [],
   "source": [
    "get_profit(yy, xx[:, -1, 1:6], alphas)"
   ]
  },
  {
   "cell_type": "markdown",
   "metadata": {},
   "source": [
    "Change a, b during epochs so that profit will also be tuned during initial steps of optimization"
   ]
  },
  {
   "cell_type": "raw",
   "metadata": {},
   "source": [
    "w_fc3 = list(model.fc3.parameters())"
   ]
  },
  {
   "cell_type": "raw",
   "metadata": {},
   "source": [
    "w_fc3[0] = torch.zeros_like(w_fc3[0])\n",
    "w_fc3[1] = torch.zeros_like(w_fc3[1])\n",
    "w_fc3[1][0] = 200."
   ]
  },
  {
   "cell_type": "raw",
   "metadata": {},
   "source": [
    "list(model.fc3.parameters())"
   ]
  },
  {
   "cell_type": "raw",
   "metadata": {},
   "source": [
    "model.fc3.weight.data = (torch.zeros_like(model.fc3.weight))\n",
    "model.fc3.bias.data = torch.zeros_like(model.fc3.bias)\n",
    "model.fc3.bias[0] = 200."
   ]
  },
  {
   "cell_type": "raw",
   "metadata": {},
   "source": [
    "x = X[:64, :, :]\n",
    "y = y[:64, :]"
   ]
  },
  {
   "cell_type": "raw",
   "metadata": {},
   "source": [
    "calc_loss(model(x), betas, x.to(device), y.to(device))"
   ]
  },
  {
   "cell_type": "code",
   "execution_count": null,
   "metadata": {},
   "outputs": [],
   "source": [
    "(1+0.08/200)**(6*9*200)"
   ]
  },
  {
   "cell_type": "code",
   "execution_count": null,
   "metadata": {},
   "outputs": [],
   "source": [
    "(1+0.05/200)**(6*9*200)"
   ]
  },
  {
   "cell_type": "code",
   "execution_count": null,
   "metadata": {
    "scrolled": true
   },
   "outputs": [],
   "source": [
    "### testing\n",
    "\n",
    "\n",
    "model = Model()\n",
    "# PATH = save_path\n",
    "PATH = \"model_vindish_epoch_18_train_loss_-280_val_loss107.pth.tar\"\n",
    "model.load_state_dict(torch.load(PATH))\n",
    "model.to(device)\n",
    "model.eval()\n",
    "\n",
    "profits = []\n",
    "costs = []\n",
    "trans_cost = 0.01\n",
    "alphas_test = []\n",
    "\n",
    "x, y = next(iter(test_dl))\n",
    "x, y = x.to(device), y.to(device)\n",
    "alphas_test.append(model(x).type(torch.Tensor).to(device))\n",
    "\n",
    "i = 0\n",
    "\n",
    "for x, y in tqdm(test_dl): # batch size is 1 for testing\n",
    "    i += 1\n",
    "#     if i == 10:\n",
    "#         break\n",
    "    x, y = x.to(device), y.to(device)\n",
    "    alphas_test.append(model(x).type(torch.Tensor).to(device))\n",
    "#         loss_val = calc_loss(alphas_val, betas, x_val, y_val)\n",
    "#         losses_val.append(loss_val.cpu().detach().numpy())\n",
    "#         L1s.append(get_dist_from_200(alphas_val).cpu().detach().numpy().mean())\n",
    "#         L2s.append(get_hedging_score(alphas_val, betas).cpu().detach().numpy().mean())\n",
    "    profits.append(get_profit(y, x[:, -1, 1:6], alphas_test[-1]).cpu().detach().numpy().mean())\n",
    "    costs.append(np.abs(alphas_test[-1].cpu().detach().numpy()-alphas_test[-2].cpu().detach().numpy()).sum()*trans_cost)\n",
    "\n",
    "print(\"Total profit including costs: {:.4f}\".format(sum(profits+costs)))\n",
    "pd.DataFrame({\"profits\":profits, \"costs\":costs})\n"
   ]
  },
  {
   "cell_type": "code",
   "execution_count": null,
   "metadata": {
    "scrolled": true
   },
   "outputs": [],
   "source": [
    "alpha_50 = pd.Series(alphas_test)[51]#.apply(lambda x: x.cpu().detach().numpy()[0])[50]\n",
    "# alpha_50\n",
    "# len(alphas_test)"
   ]
  },
  {
   "cell_type": "code",
   "execution_count": null,
   "metadata": {},
   "outputs": [],
   "source": [
    "x = X_test[50:51]\n",
    "y = y_test[50:51]\n",
    "x, y = x.to(device), y.to(device)\n",
    "get_profit(y, x[:, -1, 1:6], alpha_50).cpu().detach().numpy().mean()\n",
    "# len(profits)"
   ]
  },
  {
   "cell_type": "code",
   "execution_count": null,
   "metadata": {},
   "outputs": [],
   "source": [
    "profits[50]"
   ]
  },
  {
   "cell_type": "code",
   "execution_count": null,
   "metadata": {},
   "outputs": [],
   "source": []
  },
  {
   "cell_type": "code",
   "execution_count": null,
   "metadata": {},
   "outputs": [],
   "source": []
  },
  {
   "cell_type": "code",
   "execution_count": null,
   "metadata": {},
   "outputs": [],
   "source": [
    "alphas_test = model(x0)\n"
   ]
  },
  {
   "cell_type": "code",
   "execution_count": null,
   "metadata": {},
   "outputs": [],
   "source": []
  }
 ],
 "metadata": {
  "kernelspec": {
   "display_name": "rl1",
   "language": "python",
   "name": "rl1"
  },
  "language_info": {
   "codemirror_mode": {
    "name": "ipython",
    "version": 3
   },
   "file_extension": ".py",
   "mimetype": "text/x-python",
   "name": "python",
   "nbconvert_exporter": "python",
   "pygments_lexer": "ipython3",
   "version": "3.6.4"
  }
 },
 "nbformat": 4,
 "nbformat_minor": 2
}
