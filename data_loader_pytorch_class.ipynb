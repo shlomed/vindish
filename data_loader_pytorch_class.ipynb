{
 "cells": [
  {
   "cell_type": "code",
   "execution_count": null,
   "metadata": {},
   "outputs": [],
   "source": [
    "from torch.utils.data import Dataset, DataLoader\n",
    "from torch import Tensor\n",
    "import pandas as pd\n",
    "import numpy as np"
   ]
  },
  {
   "cell_type": "code",
   "execution_count": null,
   "metadata": {},
   "outputs": [],
   "source": [
    "class VindishDataset(Dataset):\n",
    "    def __init__(self, l_sample=10, df_data_file='E:\\\\Datasets\\\\vindish\\\\df_all.pkl'):\n",
    "        self.df = pd.read_pickle(df_data_file)\n",
    "        self.l_sample = l_sample\n",
    "        np.random.seed(42)\n",
    "        self.cols_to_extract = ['Time_To_Expiration', \n",
    "                                'UX1', 'UX2', 'UX3', 'UX4', 'UX5', 'SP500', \n",
    "                                'time_of_day', 'dow', 'dom', 'doy', \n",
    "                                'UX1_diff', 'UX2_diff', 'UX3_diff', 'UX4_diff', 'UX5_diff', 'SP500_diff']\n",
    "        self.counter = 0\n",
    "   \n",
    "    def __len__(self):\n",
    "        return self.df.shape[0]\n",
    "    \n",
    "    def __getitem__(self, seed):\n",
    "        flag_invalid = True\n",
    "        while(flag_invalid):\n",
    "            index = np.random.randint(0, self.df.shape[0])\n",
    "            sample = self.df.iloc[index:index+self.l_sample+2]\n",
    "            flag_invalid = not self._check_validity(sample)\n",
    "    \n",
    "        return self._reform_sample(sample)\n",
    "        \n",
    "    def _reform_sample(self, sample):\n",
    "        sample = sample[self.cols_to_extract]\n",
    "        x1 = Tensor(sample.iloc[:self.l_sample].values)\n",
    "        x2 = Tensor(sample.iloc[1:self.l_sample+1].values)\n",
    "        y = Tensor(sample.iloc[-1].values)\n",
    "        \n",
    "        return x1, x2, y\n",
    "        \n",
    "    def _check_validity(self, sample):\n",
    "        rule1 = sample.iloc[0][\"Time_To_Expiration\"] > sample.iloc[-1][\"Time_To_Expiration\"]\n",
    "        \n",
    "        return rule1"
   ]
  },
  {
   "cell_type": "markdown",
   "metadata": {},
   "source": [
    "from data_loader_pytorch_class import VindishDataset\n",
    "dataset = VindishDataset()\n",
    "dataloader = DataLoader(dataset, batch_size=128)"
   ]
  },
  {
   "cell_type": "markdown",
   "metadata": {},
   "source": [
    "%%time\n",
    "a = next(iter(dataloader))"
   ]
  },
  {
   "cell_type": "code",
   "execution_count": null,
   "metadata": {},
   "outputs": [],
   "source": []
  }
 ],
 "metadata": {
  "kernelspec": {
   "display_name": "pytorch",
   "language": "python",
   "name": "pytorch"
  },
  "language_info": {
   "codemirror_mode": {
    "name": "ipython",
    "version": 3
   },
   "file_extension": ".py",
   "mimetype": "text/x-python",
   "name": "python",
   "nbconvert_exporter": "python",
   "pygments_lexer": "ipython3",
   "version": "3.6.7"
  }
 },
 "nbformat": 4,
 "nbformat_minor": 2
}
