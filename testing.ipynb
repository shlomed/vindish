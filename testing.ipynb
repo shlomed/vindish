{
 "cells": [
  {
   "cell_type": "code",
   "execution_count": null,
   "metadata": {
    "scrolled": true
   },
   "outputs": [],
   "source": [
    "import pandas as pd\n",
    "import numpy as np\n",
    "from tqdm import tqdm\n",
    "import os\n",
    "\n",
    "import add_features\n",
    "\n",
    "from statsmodels.tsa.stattools import adfuller\n",
    "from tensorboardX import SummaryWriter\n",
    "writer = SummaryWriter()\n",
    "\n",
    "\n",
    "%matplotlib inline"
   ]
  },
  {
   "cell_type": "code",
   "execution_count": null,
   "metadata": {},
   "outputs": [],
   "source": [
    "import keras\n",
    "import torch\n",
    "import torchvision"
   ]
  },
  {
   "cell_type": "markdown",
   "metadata": {},
   "source": [
    "### Data Loader"
   ]
  },
  {
   "cell_type": "code",
   "execution_count": null,
   "metadata": {},
   "outputs": [],
   "source": [
    "from data_loader import *"
   ]
  },
  {
   "cell_type": "markdown",
   "metadata": {},
   "source": [
    "### Define Model"
   ]
  },
  {
   "cell_type": "code",
   "execution_count": null,
   "metadata": {},
   "outputs": [],
   "source": [
    "from models import *\n",
    "\n",
    "model = Model()\n",
    "model = model.to(device)\n",
    "\n",
    "# optimizer = torch.optim.Adam(model.parameters(), lr=0.0001)\n",
    "# scheduler = torch.optim.lr_scheduler.ReduceLROnPlateau(optimizer, patience=5, factor=0.33, verbose=True)"
   ]
  },
  {
   "cell_type": "code",
   "execution_count": null,
   "metadata": {},
   "outputs": [],
   "source": [
    "from glob import glob\n",
    "PATH = glob(\"chkpnts/model*.tar\")[-1]\n",
    "print(PATH)\n",
    "\n",
    "model.load_state_dict(torch.load(PATH))"
   ]
  },
  {
   "cell_type": "markdown",
   "metadata": {},
   "source": [
    "### Backtesting with Shlomo"
   ]
  },
  {
   "cell_type": "code",
   "execution_count": null,
   "metadata": {},
   "outputs": [],
   "source": [
    "class Result():\n",
    "    pass\n",
    "\n",
    "    def to_dict(self):\n",
    "        return self.__dict__"
   ]
  },
  {
   "cell_type": "code",
   "execution_count": null,
   "metadata": {},
   "outputs": [],
   "source": [
    "def torch_to_numpy(t):\n",
    "    try:\n",
    "        t = t.detach()\n",
    "    except:\n",
    "        pass\n",
    "    \n",
    "    try:\n",
    "        t = t.cpu()\n",
    "    except:\n",
    "        pass\n",
    "    \n",
    "    try:\n",
    "        t = t.numpy()\n",
    "    except:\n",
    "        pass\n",
    "    \n",
    "    return t"
   ]
  },
  {
   "cell_type": "code",
   "execution_count": null,
   "metadata": {},
   "outputs": [],
   "source": [
    "def change_alphas(alphas_prev, alphas_cur, y_prev, y_cur, out_after_transaction_prev, fee=0.01):\n",
    "    \"\"\"\n",
    "    we are now at time=t. we have X[t] to derive alphas[t]\n",
    "    alphas_prev = derived from X[t-1] => alphas_prev = alphas[t-1]\n",
    "    \n",
    "    \"\"\"\n",
    "    \n",
    "    \n",
    "    # tensors to numpy:\n",
    "    alphas_cur = torch_to_numpy(alphas_cur)\n",
    "    alphas_prev = torch_to_numpy(alphas_prev)\n",
    "    y_cur = torch_to_numpy(y_cur)\n",
    "    y_prev = torch_to_numpy(y_prev)\n",
    "    \n",
    "    # calc result\n",
    "    result = Result()\n",
    "    result.buy_sell_expenses = np.abs(alphas_cur-alphas_prev).sum()*fee\n",
    "    result.execution = (alphas_cur-alphas_prev)@y_cur\n",
    "    \n",
    "#     print((y_cur - y_prev).shape)\n",
    "#     print(alphas_prev.shape)\n",
    "    result.pure_pnl = ((y_cur - y_prev)@alphas_prev.flatten()).sum()\n",
    "    result.real_pnl = result.pure_pnl - result.buy_sell_expenses\n",
    "    \n",
    "    result.in_after_transaction = alphas_cur@y_cur\n",
    "    result.out_after_transaction = out_after_transaction_prev + \\\n",
    "                                    (alphas_prev - alphas_cur)@y_cur \\\n",
    "                                    - np.abs(alphas_cur-alphas_prev).sum()*fee\n",
    "        \n",
    "    return result"
   ]
  },
  {
   "cell_type": "code",
   "execution_count": null,
   "metadata": {},
   "outputs": [],
   "source": [
    "res0 = Result()\n",
    "res0.in_after_transaction = 0.\n",
    "res0.out_after_transaction = 0.\n",
    "all_results = [res0]\n",
    "model.to(\"cpu\")\n",
    "\n",
    "i = 0\n",
    "\n",
    "while True:\n",
    "    x = X_test[i]\n",
    "    if x[:, 0].min()>0.3:\n",
    "        break\n",
    "    i += 1\n",
    "        \n",
    "x = X_test[i]\n",
    "alphas_cur = model(x.unsqueeze_(0)) * 0.\n",
    "\n",
    "for x in tqdm(X_test[i+1:]):\n",
    "#     print(x[:, 8].min(), x[:, 8].max(),)\n",
    "    alphas_prev = torch_to_numpy(alphas_cur)\n",
    "    alphas_cur = torch_to_numpy(model(x.unsqueeze(0)))\n",
    "    y_prev = x[-2, 1:6]\n",
    "    y_cur = x[-1, 1:6]\n",
    "    \n",
    "    if x[:, 0].min()<0.3:\n",
    "        alphas_cur = np.zeros(5)\n",
    "#         flag_rebuy = True\n",
    "        \n",
    "#     if flag_rebuy and x[:, 0].min() > 0.3:\n",
    "#         flag_rebuy=False\n",
    "\n",
    "#     print()\n",
    "#     print(alphas_cur, alphas_prev)\n",
    "\n",
    "#     print(alphas_prev, alphas_cur, y_prev, y_cur, all_results[-1].out_before_transaction)\n",
    "    all_results.append(change_alphas(alphas_prev, alphas_cur, y_prev, y_cur, all_results[-1].out_after_transaction))"
   ]
  },
  {
   "cell_type": "code",
   "execution_count": null,
   "metadata": {},
   "outputs": [],
   "source": [
    "for i in all_results:\n",
    "    print(i.in_after_transaction, i.out_after_transaction)"
   ]
  },
  {
   "cell_type": "code",
   "execution_count": null,
   "metadata": {},
   "outputs": [],
   "source": []
  },
  {
   "cell_type": "code",
   "execution_count": null,
   "metadata": {},
   "outputs": [],
   "source": []
  },
  {
   "cell_type": "code",
   "execution_count": null,
   "metadata": {},
   "outputs": [],
   "source": []
  },
  {
   "cell_type": "code",
   "execution_count": null,
   "metadata": {},
   "outputs": [],
   "source": []
  },
  {
   "cell_type": "code",
   "execution_count": null,
   "metadata": {},
   "outputs": [],
   "source": []
  }
 ],
 "metadata": {
  "kernelspec": {
   "display_name": "rl1",
   "language": "python",
   "name": "rl1"
  },
  "language_info": {
   "codemirror_mode": {
    "name": "ipython",
    "version": 3
   },
   "file_extension": ".py",
   "mimetype": "text/x-python",
   "name": "python",
   "nbconvert_exporter": "python",
   "pygments_lexer": "ipython3",
   "version": "3.6.4"
  }
 },
 "nbformat": 4,
 "nbformat_minor": 2
}
