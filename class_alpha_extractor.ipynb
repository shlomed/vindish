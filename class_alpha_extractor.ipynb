{
 "cells": [
  {
   "cell_type": "code",
   "execution_count": 67,
   "metadata": {},
   "outputs": [],
   "source": [
    "import pandas as pd\n",
    "import numpy as np\n",
    "import torch\n",
    "from torch import nn"
   ]
  },
  {
   "cell_type": "code",
   "execution_count": 2,
   "metadata": {},
   "outputs": [
    {
     "name": "stdout",
     "output_type": "stream",
     "text": [
      "(49969, 8)\n",
      "(49951, 8)\n"
     ]
    }
   ],
   "source": [
    "c_dir = \"E:\\\\Datasets\\\\vindish\\\\\"\n",
    "df = pd.read_csv(c_dir+\"VIX Historical data 10 Min level since 2017 UX1_UX5.csv\")\n",
    "print(df.shape)\n",
    "df = df[df.apply(lambda x: x.notnull().all(), axis=1)]\n",
    "print(df.shape)"
   ]
  },
  {
   "cell_type": "code",
   "execution_count": 20,
   "metadata": {},
   "outputs": [],
   "source": [
    "df.Date = pd.to_datetime(df.Date)"
   ]
  },
  {
   "cell_type": "code",
   "execution_count": null,
   "metadata": {},
   "outputs": [],
   "source": []
  },
  {
   "cell_type": "code",
   "execution_count": 21,
   "metadata": {},
   "outputs": [
    {
     "data": {
      "text/plain": [
       "count    49951.000000\n",
       "mean        15.214453\n",
       "std          9.183779\n",
       "min          0.000000\n",
       "25%          7.329850\n",
       "50%         14.736111\n",
       "75%         22.201400\n",
       "max         34.993100\n",
       "Name: Time_To_Expiration, dtype: float64"
      ]
     },
     "execution_count": 21,
     "metadata": {},
     "output_type": "execute_result"
    }
   ],
   "source": [
    "df.Time_To_Expiration.describe()"
   ]
  },
  {
   "cell_type": "code",
   "execution_count": 22,
   "metadata": {},
   "outputs": [
    {
     "data": {
      "text/plain": [
       "count    49950.000000\n",
       "mean         0.000227\n",
       "std          0.587225\n",
       "min         -3.048600\n",
       "25%         -0.007000\n",
       "50%         -0.006944\n",
       "75%         -0.006900\n",
       "max         34.993100\n",
       "Name: Time_To_Expiration, dtype: float64"
      ]
     },
     "execution_count": 22,
     "metadata": {},
     "output_type": "execute_result"
    }
   ],
   "source": [
    "df.Time_To_Expiration.diff().describe()"
   ]
  },
  {
   "cell_type": "markdown",
   "metadata": {},
   "source": [
    "### use raw ux data only - generator"
   ]
  },
  {
   "cell_type": "code",
   "execution_count": 54,
   "metadata": {},
   "outputs": [],
   "source": [
    "window_size = 10\n",
    "batch_size = 128"
   ]
  },
  {
   "cell_type": "code",
   "execution_count": 63,
   "metadata": {},
   "outputs": [],
   "source": [
    "def get_df_t0_t1_y_filter_rule(df, i, window_size=window_size):\n",
    "    df_t0 = df.iloc[i:i+window_size]\n",
    "    df_t1 = df.iloc[i+1:i+window_size+1]\n",
    "    y = df.iloc[i+window_size+1]\n",
    "    \n",
    "    filtering_rule1 = (y.Date - df_t0.Date.iloc[0]).total_seconds()//60 == (window_size+1)*10.\n",
    "    filtering_rule2 = (y.Time_To_Expiration<df_t0.iloc[0].Time_To_Expiration)\n",
    "    filtering_rule = filtering_rule1 and filtering_rule2\n",
    "    \n",
    "    return df_t0, df_t1, y, filtering_rule"
   ]
  },
  {
   "cell_type": "code",
   "execution_count": 64,
   "metadata": {},
   "outputs": [],
   "source": [
    "def get_random_batch(df, batch_size=batch_size, window_size=window_size):\n",
    "    rand_idx = np.random.choice(np.arange(0, df.shape[0]-window_size-1), batch_size)\n",
    "    \n",
    "    dfs_t0 = []\n",
    "    dfs_t1 = []\n",
    "    ys = []\n",
    "\n",
    "    for i in rand_idx:\n",
    "        df_t0, df_t1, y, filtering_rule = get_df_t0_t1_y_filter_rule(df, i)\n",
    "        if filtering_rule:\n",
    "            dfs_t0.append(df_t0)\n",
    "            dfs_t1.append(df_t1)\n",
    "            ys.append(y)\n",
    "            \n",
    "    return dfs_t0, dfs_t1, ys"
   ]
  },
  {
   "cell_type": "raw",
   "metadata": {},
   "source": [
    "for i in range(100):\n",
    "    dfs_t0, dfs_t1, ys = get_random_batch(df)\n",
    "    print(128-len(dfs_t0))"
   ]
  },
  {
   "cell_type": "code",
   "execution_count": 73,
   "metadata": {},
   "outputs": [],
   "source": [
    "class AlphaExtractor(nn.Module):\n",
    "    def __init__(self):\n",
    "        super(AlphaExtractor, self).__init__()\n",
    "        pass\n",
    "    \n",
    "    def forward(self, inputs):\n",
    "        '''\n",
    "        inputs: list of dfs with the following columns: [UX1(float),UX2(float),UX3(float),UX4(float),UX5(float)]\n",
    "        '''\n",
    "        pass"
   ]
  },
  {
   "cell_type": "code",
   "execution_count": 72,
   "metadata": {},
   "outputs": [],
   "source": [
    "a = AlphaExtractor()"
   ]
  },
  {
   "cell_type": "code",
   "execution_count": null,
   "metadata": {},
   "outputs": [],
   "source": []
  }
 ],
 "metadata": {
  "kernelspec": {
   "display_name": "pytorch",
   "language": "python",
   "name": "pytorch"
  },
  "language_info": {
   "codemirror_mode": {
    "name": "ipython",
    "version": 3
   },
   "file_extension": ".py",
   "mimetype": "text/x-python",
   "name": "python",
   "nbconvert_exporter": "python",
   "pygments_lexer": "ipython3",
   "version": "3.6.7"
  }
 },
 "nbformat": 4,
 "nbformat_minor": 2
}
