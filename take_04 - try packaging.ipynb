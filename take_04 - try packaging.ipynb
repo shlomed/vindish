{
 "cells": [
  {
   "cell_type": "code",
   "execution_count": 1,
   "metadata": {
    "scrolled": true
   },
   "outputs": [
    {
     "name": "stderr",
     "output_type": "stream",
     "text": [
      "C:\\ProgramData\\Miniconda3\\envs\\pytorch1\\lib\\site-packages\\h5py\\__init__.py:36: FutureWarning: Conversion of the second argument of issubdtype from `float` to `np.floating` is deprecated. In future, it will be treated as `np.float64 == np.dtype(float).type`.\n",
      "  from ._conv import register_converters as _register_converters\n",
      "Using TensorFlow backend.\n"
     ]
    }
   ],
   "source": [
    "import pandas as pd\n",
    "import numpy as np\n",
    "from tqdm import tqdm\n",
    "import os\n",
    "\n",
    "import add_features\n",
    "\n",
    "from statsmodels.tsa.stattools import adfuller\n",
    "\n",
    "%matplotlib inline"
   ]
  },
  {
   "cell_type": "code",
   "execution_count": 2,
   "metadata": {},
   "outputs": [],
   "source": [
    "c_dir = \"C://Users/shlomi/Documents/Work/vindish/data/\"\n",
    "e_dir = \"E:\\\\Work/Vindish/created_samples/\""
   ]
  },
  {
   "cell_type": "code",
   "execution_count": 3,
   "metadata": {},
   "outputs": [],
   "source": [
    "df = pd.read_csv(c_dir+\"VIX Historical data 10 Min level since 2017 UX1_UX5.csv\")"
   ]
  },
  {
   "cell_type": "code",
   "execution_count": 4,
   "metadata": {},
   "outputs": [
    {
     "data": {
      "text/html": [
       "<div>\n",
       "<style scoped>\n",
       "    .dataframe tbody tr th:only-of-type {\n",
       "        vertical-align: middle;\n",
       "    }\n",
       "\n",
       "    .dataframe tbody tr th {\n",
       "        vertical-align: top;\n",
       "    }\n",
       "\n",
       "    .dataframe thead th {\n",
       "        text-align: right;\n",
       "    }\n",
       "</style>\n",
       "<table border=\"1\" class=\"dataframe\">\n",
       "  <thead>\n",
       "    <tr style=\"text-align: right;\">\n",
       "      <th></th>\n",
       "      <th>Time_To_Expiration</th>\n",
       "      <th>Date</th>\n",
       "      <th>UX1</th>\n",
       "      <th>UX2</th>\n",
       "      <th>UX3</th>\n",
       "      <th>UX4</th>\n",
       "      <th>UX5</th>\n",
       "      <th>SP500</th>\n",
       "    </tr>\n",
       "  </thead>\n",
       "  <tbody>\n",
       "    <tr>\n",
       "      <th>0</th>\n",
       "      <td>8.9931</td>\n",
       "      <td>08/05/2017 23:30</td>\n",
       "      <td>11.40</td>\n",
       "      <td>12.45</td>\n",
       "      <td>13.68</td>\n",
       "      <td>14.35</td>\n",
       "      <td>15.20</td>\n",
       "      <td>2394.50</td>\n",
       "    </tr>\n",
       "    <tr>\n",
       "      <th>1</th>\n",
       "      <td>8.9861</td>\n",
       "      <td>08/05/2017 23:40</td>\n",
       "      <td>11.43</td>\n",
       "      <td>12.45</td>\n",
       "      <td>13.68</td>\n",
       "      <td>14.34</td>\n",
       "      <td>15.18</td>\n",
       "      <td>2394.75</td>\n",
       "    </tr>\n",
       "    <tr>\n",
       "      <th>2</th>\n",
       "      <td>8.9792</td>\n",
       "      <td>08/05/2017 23:50</td>\n",
       "      <td>11.43</td>\n",
       "      <td>12.48</td>\n",
       "      <td>13.67</td>\n",
       "      <td>14.30</td>\n",
       "      <td>15.20</td>\n",
       "      <td>2395.00</td>\n",
       "    </tr>\n",
       "    <tr>\n",
       "      <th>3</th>\n",
       "      <td>8.9722</td>\n",
       "      <td>09/05/2017</td>\n",
       "      <td>11.43</td>\n",
       "      <td>12.48</td>\n",
       "      <td>13.68</td>\n",
       "      <td>14.30</td>\n",
       "      <td>15.20</td>\n",
       "      <td>2395.00</td>\n",
       "    </tr>\n",
       "    <tr>\n",
       "      <th>4</th>\n",
       "      <td>8.9653</td>\n",
       "      <td>09/05/2017 00:10</td>\n",
       "      <td>11.43</td>\n",
       "      <td>12.45</td>\n",
       "      <td>13.68</td>\n",
       "      <td>14.30</td>\n",
       "      <td>15.20</td>\n",
       "      <td>2395.00</td>\n",
       "    </tr>\n",
       "  </tbody>\n",
       "</table>\n",
       "</div>"
      ],
      "text/plain": [
       "   Time_To_Expiration              Date    UX1    UX2    UX3    UX4    UX5  \\\n",
       "0              8.9931  08/05/2017 23:30  11.40  12.45  13.68  14.35  15.20   \n",
       "1              8.9861  08/05/2017 23:40  11.43  12.45  13.68  14.34  15.18   \n",
       "2              8.9792  08/05/2017 23:50  11.43  12.48  13.67  14.30  15.20   \n",
       "3              8.9722        09/05/2017  11.43  12.48  13.68  14.30  15.20   \n",
       "4              8.9653  09/05/2017 00:10  11.43  12.45  13.68  14.30  15.20   \n",
       "\n",
       "     SP500  \n",
       "0  2394.50  \n",
       "1  2394.75  \n",
       "2  2395.00  \n",
       "3  2395.00  \n",
       "4  2395.00  "
      ]
     },
     "execution_count": 4,
     "metadata": {},
     "output_type": "execute_result"
    }
   ],
   "source": [
    "df.head()"
   ]
  },
  {
   "cell_type": "code",
   "execution_count": 5,
   "metadata": {},
   "outputs": [
    {
     "data": {
      "text/html": [
       "<div>\n",
       "<style scoped>\n",
       "    .dataframe tbody tr th:only-of-type {\n",
       "        vertical-align: middle;\n",
       "    }\n",
       "\n",
       "    .dataframe tbody tr th {\n",
       "        vertical-align: top;\n",
       "    }\n",
       "\n",
       "    .dataframe thead th {\n",
       "        text-align: right;\n",
       "    }\n",
       "</style>\n",
       "<table border=\"1\" class=\"dataframe\">\n",
       "  <thead>\n",
       "    <tr style=\"text-align: right;\">\n",
       "      <th></th>\n",
       "      <th>Time_To_Expiration</th>\n",
       "      <th>Date</th>\n",
       "      <th>UX1</th>\n",
       "      <th>UX2</th>\n",
       "      <th>UX3</th>\n",
       "      <th>UX4</th>\n",
       "      <th>UX5</th>\n",
       "      <th>SP500</th>\n",
       "    </tr>\n",
       "  </thead>\n",
       "  <tbody>\n",
       "    <tr>\n",
       "      <th>1008</th>\n",
       "      <td>NaN</td>\n",
       "      <td>NaN</td>\n",
       "      <td>NaN</td>\n",
       "      <td>NaN</td>\n",
       "      <td>NaN</td>\n",
       "      <td>NaN</td>\n",
       "      <td>NaN</td>\n",
       "      <td>NaN</td>\n",
       "    </tr>\n",
       "    <tr>\n",
       "      <th>4606</th>\n",
       "      <td>NaN</td>\n",
       "      <td>NaN</td>\n",
       "      <td>NaN</td>\n",
       "      <td>NaN</td>\n",
       "      <td>NaN</td>\n",
       "      <td>NaN</td>\n",
       "      <td>NaN</td>\n",
       "      <td>NaN</td>\n",
       "    </tr>\n",
       "    <tr>\n",
       "      <th>7487</th>\n",
       "      <td>NaN</td>\n",
       "      <td>NaN</td>\n",
       "      <td>NaN</td>\n",
       "      <td>NaN</td>\n",
       "      <td>NaN</td>\n",
       "      <td>NaN</td>\n",
       "      <td>NaN</td>\n",
       "      <td>NaN</td>\n",
       "    </tr>\n",
       "    <tr>\n",
       "      <th>10368</th>\n",
       "      <td>NaN</td>\n",
       "      <td>NaN</td>\n",
       "      <td>NaN</td>\n",
       "      <td>NaN</td>\n",
       "      <td>NaN</td>\n",
       "      <td>NaN</td>\n",
       "      <td>NaN</td>\n",
       "      <td>NaN</td>\n",
       "    </tr>\n",
       "    <tr>\n",
       "      <th>13969</th>\n",
       "      <td>NaN</td>\n",
       "      <td>NaN</td>\n",
       "      <td>NaN</td>\n",
       "      <td>NaN</td>\n",
       "      <td>NaN</td>\n",
       "      <td>NaN</td>\n",
       "      <td>NaN</td>\n",
       "      <td>NaN</td>\n",
       "    </tr>\n",
       "  </tbody>\n",
       "</table>\n",
       "</div>"
      ],
      "text/plain": [
       "       Time_To_Expiration Date  UX1  UX2  UX3  UX4  UX5  SP500\n",
       "1008                  NaN  NaN  NaN  NaN  NaN  NaN  NaN    NaN\n",
       "4606                  NaN  NaN  NaN  NaN  NaN  NaN  NaN    NaN\n",
       "7487                  NaN  NaN  NaN  NaN  NaN  NaN  NaN    NaN\n",
       "10368                 NaN  NaN  NaN  NaN  NaN  NaN  NaN    NaN\n",
       "13969                 NaN  NaN  NaN  NaN  NaN  NaN  NaN    NaN"
      ]
     },
     "execution_count": 5,
     "metadata": {},
     "output_type": "execute_result"
    }
   ],
   "source": [
    "df[df.UX1.isnull()].head()"
   ]
  },
  {
   "cell_type": "code",
   "execution_count": 6,
   "metadata": {},
   "outputs": [
    {
     "data": {
      "text/plain": [
       "<matplotlib.axes._subplots.AxesSubplot at 0x1f37c5daf98>"
      ]
     },
     "execution_count": 6,
     "metadata": {},
     "output_type": "execute_result"
    },
    {
     "data": {
      "image/png": "[encoded data removed]",
      "text/plain": [
       "<Figure size 432x288 with 1 Axes>"
      ]
     },
     "metadata": {},
     "output_type": "display_data"
    }
   ],
   "source": [
    "df.iloc[:, 2:7].plot()"
   ]
  },
  {
   "cell_type": "code",
   "execution_count": 7,
   "metadata": {},
   "outputs": [
    {
     "data": {
      "text/plain": [
       "<matplotlib.axes._subplots.AxesSubplot at 0x1f37c975fd0>"
      ]
     },
     "execution_count": 7,
     "metadata": {},
     "output_type": "execute_result"
    },
    {
     "data": {
      "image/png": "[encoded data removed]",
      "text/plain": [
       "<Figure size 432x288 with 1 Axes>"
      ]
     },
     "metadata": {},
     "output_type": "display_data"
    }
   ],
   "source": [
    "df.iloc[0:50000:5000, 2:7].T.plot()"
   ]
  },
  {
   "cell_type": "code",
   "execution_count": 8,
   "metadata": {},
   "outputs": [
    {
     "name": "stdout",
     "output_type": "stream",
     "text": [
      "drop nulls:\n",
      "before: (49969, 8) 18\n",
      "after: (49951, 8) 0\n"
     ]
    }
   ],
   "source": [
    "df = add_features.drop_rows_with_null_dates(df)"
   ]
  },
  {
   "cell_type": "code",
   "execution_count": 9,
   "metadata": {},
   "outputs": [],
   "source": [
    "df.Date = pd.to_datetime(df.Date, dayfirst=True)"
   ]
  },
  {
   "cell_type": "code",
   "execution_count": 10,
   "metadata": {},
   "outputs": [],
   "source": [
    "df = pd.concat([df, add_features.from_date_get_dow_dom_doy(df.Date)], axis=1)"
   ]
  },
  {
   "cell_type": "code",
   "execution_count": 11,
   "metadata": {},
   "outputs": [
    {
     "data": {
      "text/html": [
       "<div>\n",
       "<style scoped>\n",
       "    .dataframe tbody tr th:only-of-type {\n",
       "        vertical-align: middle;\n",
       "    }\n",
       "\n",
       "    .dataframe tbody tr th {\n",
       "        vertical-align: top;\n",
       "    }\n",
       "\n",
       "    .dataframe thead th {\n",
       "        text-align: right;\n",
       "    }\n",
       "</style>\n",
       "<table border=\"1\" class=\"dataframe\">\n",
       "  <thead>\n",
       "    <tr style=\"text-align: right;\">\n",
       "      <th></th>\n",
       "      <th>Time_To_Expiration</th>\n",
       "      <th>Date</th>\n",
       "      <th>UX1</th>\n",
       "      <th>UX2</th>\n",
       "      <th>UX3</th>\n",
       "      <th>UX4</th>\n",
       "      <th>UX5</th>\n",
       "      <th>SP500</th>\n",
       "      <th>dow</th>\n",
       "      <th>dom</th>\n",
       "      <th>doy</th>\n",
       "    </tr>\n",
       "  </thead>\n",
       "  <tbody>\n",
       "    <tr>\n",
       "      <th>0</th>\n",
       "      <td>8.9931</td>\n",
       "      <td>2017-05-08 23:30:00</td>\n",
       "      <td>11.40</td>\n",
       "      <td>12.45</td>\n",
       "      <td>13.68</td>\n",
       "      <td>14.35</td>\n",
       "      <td>15.20</td>\n",
       "      <td>2394.50</td>\n",
       "      <td>0</td>\n",
       "      <td>8</td>\n",
       "      <td>128</td>\n",
       "    </tr>\n",
       "    <tr>\n",
       "      <th>1</th>\n",
       "      <td>8.9861</td>\n",
       "      <td>2017-05-08 23:40:00</td>\n",
       "      <td>11.43</td>\n",
       "      <td>12.45</td>\n",
       "      <td>13.68</td>\n",
       "      <td>14.34</td>\n",
       "      <td>15.18</td>\n",
       "      <td>2394.75</td>\n",
       "      <td>0</td>\n",
       "      <td>8</td>\n",
       "      <td>128</td>\n",
       "    </tr>\n",
       "    <tr>\n",
       "      <th>2</th>\n",
       "      <td>8.9792</td>\n",
       "      <td>2017-05-08 23:50:00</td>\n",
       "      <td>11.43</td>\n",
       "      <td>12.48</td>\n",
       "      <td>13.67</td>\n",
       "      <td>14.30</td>\n",
       "      <td>15.20</td>\n",
       "      <td>2395.00</td>\n",
       "      <td>0</td>\n",
       "      <td>8</td>\n",
       "      <td>128</td>\n",
       "    </tr>\n",
       "    <tr>\n",
       "      <th>3</th>\n",
       "      <td>8.9722</td>\n",
       "      <td>2017-05-09 00:00:00</td>\n",
       "      <td>11.43</td>\n",
       "      <td>12.48</td>\n",
       "      <td>13.68</td>\n",
       "      <td>14.30</td>\n",
       "      <td>15.20</td>\n",
       "      <td>2395.00</td>\n",
       "      <td>1</td>\n",
       "      <td>9</td>\n",
       "      <td>129</td>\n",
       "    </tr>\n",
       "    <tr>\n",
       "      <th>4</th>\n",
       "      <td>8.9653</td>\n",
       "      <td>2017-05-09 00:10:00</td>\n",
       "      <td>11.43</td>\n",
       "      <td>12.45</td>\n",
       "      <td>13.68</td>\n",
       "      <td>14.30</td>\n",
       "      <td>15.20</td>\n",
       "      <td>2395.00</td>\n",
       "      <td>1</td>\n",
       "      <td>9</td>\n",
       "      <td>129</td>\n",
       "    </tr>\n",
       "  </tbody>\n",
       "</table>\n",
       "</div>"
      ],
      "text/plain": [
       "   Time_To_Expiration                Date    UX1    UX2    UX3    UX4    UX5  \\\n",
       "0              8.9931 2017-05-08 23:30:00  11.40  12.45  13.68  14.35  15.20   \n",
       "1              8.9861 2017-05-08 23:40:00  11.43  12.45  13.68  14.34  15.18   \n",
       "2              8.9792 2017-05-08 23:50:00  11.43  12.48  13.67  14.30  15.20   \n",
       "3              8.9722 2017-05-09 00:00:00  11.43  12.48  13.68  14.30  15.20   \n",
       "4              8.9653 2017-05-09 00:10:00  11.43  12.45  13.68  14.30  15.20   \n",
       "\n",
       "     SP500  dow  dom  doy  \n",
       "0  2394.50    0    8  128  \n",
       "1  2394.75    0    8  128  \n",
       "2  2395.00    0    8  128  \n",
       "3  2395.00    1    9  129  \n",
       "4  2395.00    1    9  129  "
      ]
     },
     "execution_count": 11,
     "metadata": {},
     "output_type": "execute_result"
    }
   ],
   "source": [
    "df.head()"
   ]
  },
  {
   "cell_type": "code",
   "execution_count": 12,
   "metadata": {},
   "outputs": [],
   "source": [
    "diff_cols = [i+\"_diff\" for i in df.iloc[:, 2:8].columns]\n",
    "df[diff_cols] = df.iloc[:, 2:8].diff()\n",
    "df = df.iloc[1:, :]"
   ]
  },
  {
   "cell_type": "code",
   "execution_count": 13,
   "metadata": {},
   "outputs": [],
   "source": [
    "df[\"day_of_month\"] = df.Date.dt.day\n",
    "df[\"day_of_week\"] = df.Date.dt.dayofweek\n",
    "df[\"day_of_year\"] = df.Date.dt.dayofyear"
   ]
  },
  {
   "cell_type": "code",
   "execution_count": 14,
   "metadata": {},
   "outputs": [],
   "source": [
    "df_dow = pd.get_dummies(df.day_of_week)\n",
    "df_dow_columns = [\"dow_\"+str(i) for i in df.day_of_week.unique().tolist()]\n",
    "df_dow.columns = df_dow_columns\n",
    "# df_dow\n",
    "df_dom = pd.get_dummies(df.day_of_month)\n",
    "df_dom_columns = [\"dom_\"+str(i) for i in df.day_of_month.unique().tolist()]\n",
    "df_dom.columns = df_dom_columns"
   ]
  },
  {
   "cell_type": "code",
   "execution_count": 15,
   "metadata": {
    "scrolled": false
   },
   "outputs": [],
   "source": [
    "df = pd.concat([df, df_dow, df_dom], axis=1)"
   ]
  },
  {
   "cell_type": "raw",
   "metadata": {},
   "source": [
    "df.iloc[:, 2:14].head() # check diffs"
   ]
  },
  {
   "cell_type": "code",
   "execution_count": 16,
   "metadata": {},
   "outputs": [
    {
     "data": {
      "text/plain": [
       "10"
      ]
     },
     "execution_count": 16,
     "metadata": {},
     "output_type": "execute_result"
    }
   ],
   "source": [
    "df.memory_usage().sum()//1000000"
   ]
  },
  {
   "cell_type": "raw",
   "metadata": {},
   "source": [
    "df.day_of_week.value_counts(dropna=False)"
   ]
  },
  {
   "cell_type": "raw",
   "metadata": {},
   "source": [
    "adfuller(df.UX2.diff().values[1:])"
   ]
  },
  {
   "cell_type": "raw",
   "metadata": {},
   "source": [
    "adfuller(df.UX2)"
   ]
  },
  {
   "cell_type": "code",
   "execution_count": 17,
   "metadata": {},
   "outputs": [],
   "source": [
    "rol = df.iloc[:, 2:7].rolling(window=1000)"
   ]
  },
  {
   "cell_type": "code",
   "execution_count": 18,
   "metadata": {},
   "outputs": [],
   "source": [
    "x = df.iloc[:11]"
   ]
  },
  {
   "cell_type": "code",
   "execution_count": 19,
   "metadata": {},
   "outputs": [
    {
     "data": {
      "text/plain": [
       "<matplotlib.axes._subplots.AxesSubplot at 0x1f37c684eb8>"
      ]
     },
     "execution_count": 19,
     "metadata": {},
     "output_type": "execute_result"
    },
    {
     "data": {
      "image/png": "[encoded data removed]",
      "text/plain": [
       "<Figure size 432x288 with 1 Axes>"
      ]
     },
     "metadata": {},
     "output_type": "display_data"
    }
   ],
   "source": [
    "rol.mean().plot()"
   ]
  },
  {
   "cell_type": "code",
   "execution_count": 20,
   "metadata": {},
   "outputs": [
    {
     "data": {
      "text/plain": [
       "array([[11.43, 12.45, 13.68, 14.34, 15.18],\n",
       "       [11.43, 12.48, 13.67, 14.3 , 15.2 ],\n",
       "       [11.43, 12.48, 13.68, 14.3 , 15.2 ],\n",
       "       [11.43, 12.45, 13.68, 14.3 , 15.2 ],\n",
       "       [11.45, 12.48, 13.68, 14.3 , 15.2 ],\n",
       "       [11.45, 12.48, 13.68, 14.3 , 15.2 ],\n",
       "       [11.43, 12.45, 13.68, 14.3 , 15.2 ],\n",
       "       [11.43, 12.45, 13.68, 14.3 , 15.2 ],\n",
       "       [11.43, 12.47, 13.68, 14.3 , 15.2 ],\n",
       "       [11.45, 12.45, 13.68, 14.3 , 15.15]])"
      ]
     },
     "execution_count": 20,
     "metadata": {},
     "output_type": "execute_result"
    }
   ],
   "source": [
    "ux_vals = x[[\"UX1\", \"UX2\", \"UX3\", \"UX4\", \"UX5\"]].iloc[:10].values\n",
    "ux_vals"
   ]
  },
  {
   "cell_type": "code",
   "execution_count": 21,
   "metadata": {},
   "outputs": [],
   "source": [
    "dow_dummy = pd.get_dummies(x.day_of_week)#, columns=days_list)"
   ]
  },
  {
   "cell_type": "raw",
   "metadata": {},
   "source": [
    "dow_dummy"
   ]
  },
  {
   "cell_type": "raw",
   "metadata": {},
   "source": [
    "pd.get_dummies(x.day_of_month)"
   ]
  },
  {
   "cell_type": "code",
   "execution_count": 22,
   "metadata": {},
   "outputs": [
    {
     "data": {
      "text/plain": [
       "Index(['Time_To_Expiration', 'Date', 'UX1', 'UX2', 'UX3', 'UX4', 'UX5',\n",
       "       'SP500', 'dow', 'dom', 'doy', 'UX1_diff', 'UX2_diff', 'UX3_diff',\n",
       "       'UX4_diff', 'UX5_diff', 'SP500_diff', 'day_of_month', 'day_of_week',\n",
       "       'day_of_year', 'dow_0', 'dow_1', 'dow_2', 'dow_3', 'dow_4', 'dow_6',\n",
       "       'dom_8', 'dom_9', 'dom_10', 'dom_11', 'dom_12', 'dom_15', 'dom_16',\n",
       "       'dom_17', 'dom_18', 'dom_19', 'dom_22', 'dom_23', 'dom_24', 'dom_25',\n",
       "       'dom_26', 'dom_29', 'dom_30', 'dom_31', 'dom_1', 'dom_2', 'dom_5',\n",
       "       'dom_6', 'dom_7', 'dom_13', 'dom_14', 'dom_20', 'dom_21', 'dom_27',\n",
       "       'dom_28', 'dom_3', 'dom_4'],\n",
       "      dtype='object')"
      ]
     },
     "execution_count": 22,
     "metadata": {},
     "output_type": "execute_result"
    }
   ],
   "source": [
    "df.columns"
   ]
  },
  {
   "cell_type": "code",
   "execution_count": 23,
   "metadata": {},
   "outputs": [],
   "source": [
    "def create_xy_from_df(x, verbose=False):\n",
    "    time_to_expiration = np.expand_dims(x.iloc[:10].loc[:, \"Time_To_Expiration\"].values, 1)\n",
    "    ux_vals = x.iloc[:10].loc[:, ['UX1', 'UX2', 'UX3', 'UX4','UX5']].values\n",
    "    snp_vals = np.expand_dims(x.iloc[:10].loc[:, \"SP500\"].values, 1)\n",
    "    day_of_year = np.expand_dims(x.iloc[:10].loc[:, \"day_of_year\"].values, 1)\n",
    "\n",
    "    day_of_week_dummies = x.iloc[:10].loc[:, df_dow_columns].values\n",
    "\n",
    "    day_of_month_dummies = x.iloc[:10].loc[:, df_dom_columns].values\n",
    "\n",
    "    diffs = x.iloc[:10].loc[:, diff_cols[:-1]].values\n",
    "    diff_snp = np.expand_dims(x.iloc[:10].loc[:, diff_cols[-1]].values, 1)\n",
    "\n",
    "    if verbose:\n",
    "        print(\"ux_vals.shape: \", ux_vals.shape)\n",
    "        print(\"diffs.shape: \", diffs.shape)\n",
    "        print(\"snp_vals.shape: \", snp_vals.shape)\n",
    "        print(\"diff_snp.shape: \", diff_snp.shape)\n",
    "        print(\"time_to_expiration.shape: \", time_to_expiration.shape)\n",
    "        print(\"day_of_year.shape: \", day_of_year.shape)\n",
    "        print(\"day_of_week_dummies.shape: \", day_of_week_dummies.shape)\n",
    "        print(\"day_of_month_dummies.shape: \", day_of_month_dummies.shape)\n",
    "\n",
    "    X = np.concatenate([ux_vals, diffs, snp_vals, diff_snp, time_to_expiration, day_of_year, day_of_week_dummies, day_of_month_dummies], axis=1)\n",
    "    y = x[[\"UX1\", \"UX2\", \"UX3\", \"UX4\", \"UX5\"]].iloc[10].values\n",
    "    \n",
    "    return X,y"
   ]
  },
  {
   "cell_type": "code",
   "execution_count": 24,
   "metadata": {
    "scrolled": true
   },
   "outputs": [
    {
     "name": "stdout",
     "output_type": "stream",
     "text": [
      "ux_vals.shape:  (10, 5)\n",
      "diffs.shape:  (10, 5)\n",
      "snp_vals.shape:  (10, 1)\n",
      "diff_snp.shape:  (10, 1)\n",
      "time_to_expiration.shape:  (10, 1)\n",
      "day_of_year.shape:  (10, 1)\n",
      "day_of_week_dummies.shape:  (10, 6)\n",
      "day_of_month_dummies.shape:  (10, 31)\n"
     ]
    }
   ],
   "source": [
    "i=11\n",
    "X, y = create_xy_from_df(df.iloc[i-11:i, :], verbose=True)"
   ]
  },
  {
   "cell_type": "code",
   "execution_count": 25,
   "metadata": {},
   "outputs": [
    {
     "name": "stdout",
     "output_type": "stream",
     "text": [
      "[0, 1, 2, 3, 4, 6]\n"
     ]
    },
    {
     "data": {
      "text/html": [
       "<div>\n",
       "<style scoped>\n",
       "    .dataframe tbody tr th:only-of-type {\n",
       "        vertical-align: middle;\n",
       "    }\n",
       "\n",
       "    .dataframe tbody tr th {\n",
       "        vertical-align: top;\n",
       "    }\n",
       "\n",
       "    .dataframe thead th {\n",
       "        text-align: right;\n",
       "    }\n",
       "</style>\n",
       "<table border=\"1\" class=\"dataframe\">\n",
       "  <thead>\n",
       "    <tr style=\"text-align: right;\">\n",
       "      <th></th>\n",
       "      <th>Time_To_Expiration</th>\n",
       "      <th>Date</th>\n",
       "      <th>UX1</th>\n",
       "      <th>UX2</th>\n",
       "      <th>UX3</th>\n",
       "      <th>UX4</th>\n",
       "      <th>UX5</th>\n",
       "      <th>SP500</th>\n",
       "      <th>dow</th>\n",
       "      <th>dom</th>\n",
       "      <th>...</th>\n",
       "      <th>dom_6</th>\n",
       "      <th>dom_7</th>\n",
       "      <th>dom_13</th>\n",
       "      <th>dom_14</th>\n",
       "      <th>dom_20</th>\n",
       "      <th>dom_21</th>\n",
       "      <th>dom_27</th>\n",
       "      <th>dom_28</th>\n",
       "      <th>dom_3</th>\n",
       "      <th>dom_4</th>\n",
       "    </tr>\n",
       "  </thead>\n",
       "  <tbody>\n",
       "    <tr>\n",
       "      <th>1</th>\n",
       "      <td>8.9861</td>\n",
       "      <td>2017-05-08 23:40:00</td>\n",
       "      <td>11.43</td>\n",
       "      <td>12.45</td>\n",
       "      <td>13.68</td>\n",
       "      <td>14.34</td>\n",
       "      <td>15.18</td>\n",
       "      <td>2394.75</td>\n",
       "      <td>0</td>\n",
       "      <td>8</td>\n",
       "      <td>...</td>\n",
       "      <td>0</td>\n",
       "      <td>0</td>\n",
       "      <td>0</td>\n",
       "      <td>0</td>\n",
       "      <td>0</td>\n",
       "      <td>0</td>\n",
       "      <td>0</td>\n",
       "      <td>0</td>\n",
       "      <td>0</td>\n",
       "      <td>0</td>\n",
       "    </tr>\n",
       "    <tr>\n",
       "      <th>2</th>\n",
       "      <td>8.9792</td>\n",
       "      <td>2017-05-08 23:50:00</td>\n",
       "      <td>11.43</td>\n",
       "      <td>12.48</td>\n",
       "      <td>13.67</td>\n",
       "      <td>14.30</td>\n",
       "      <td>15.20</td>\n",
       "      <td>2395.00</td>\n",
       "      <td>0</td>\n",
       "      <td>8</td>\n",
       "      <td>...</td>\n",
       "      <td>0</td>\n",
       "      <td>0</td>\n",
       "      <td>0</td>\n",
       "      <td>0</td>\n",
       "      <td>0</td>\n",
       "      <td>0</td>\n",
       "      <td>0</td>\n",
       "      <td>0</td>\n",
       "      <td>0</td>\n",
       "      <td>0</td>\n",
       "    </tr>\n",
       "    <tr>\n",
       "      <th>3</th>\n",
       "      <td>8.9722</td>\n",
       "      <td>2017-05-09 00:00:00</td>\n",
       "      <td>11.43</td>\n",
       "      <td>12.48</td>\n",
       "      <td>13.68</td>\n",
       "      <td>14.30</td>\n",
       "      <td>15.20</td>\n",
       "      <td>2395.00</td>\n",
       "      <td>1</td>\n",
       "      <td>9</td>\n",
       "      <td>...</td>\n",
       "      <td>0</td>\n",
       "      <td>0</td>\n",
       "      <td>0</td>\n",
       "      <td>0</td>\n",
       "      <td>0</td>\n",
       "      <td>0</td>\n",
       "      <td>0</td>\n",
       "      <td>0</td>\n",
       "      <td>0</td>\n",
       "      <td>0</td>\n",
       "    </tr>\n",
       "    <tr>\n",
       "      <th>4</th>\n",
       "      <td>8.9653</td>\n",
       "      <td>2017-05-09 00:10:00</td>\n",
       "      <td>11.43</td>\n",
       "      <td>12.45</td>\n",
       "      <td>13.68</td>\n",
       "      <td>14.30</td>\n",
       "      <td>15.20</td>\n",
       "      <td>2395.00</td>\n",
       "      <td>1</td>\n",
       "      <td>9</td>\n",
       "      <td>...</td>\n",
       "      <td>0</td>\n",
       "      <td>0</td>\n",
       "      <td>0</td>\n",
       "      <td>0</td>\n",
       "      <td>0</td>\n",
       "      <td>0</td>\n",
       "      <td>0</td>\n",
       "      <td>0</td>\n",
       "      <td>0</td>\n",
       "      <td>0</td>\n",
       "    </tr>\n",
       "    <tr>\n",
       "      <th>5</th>\n",
       "      <td>8.9583</td>\n",
       "      <td>2017-05-09 00:20:00</td>\n",
       "      <td>11.45</td>\n",
       "      <td>12.48</td>\n",
       "      <td>13.68</td>\n",
       "      <td>14.30</td>\n",
       "      <td>15.20</td>\n",
       "      <td>2395.00</td>\n",
       "      <td>1</td>\n",
       "      <td>9</td>\n",
       "      <td>...</td>\n",
       "      <td>0</td>\n",
       "      <td>0</td>\n",
       "      <td>0</td>\n",
       "      <td>0</td>\n",
       "      <td>0</td>\n",
       "      <td>0</td>\n",
       "      <td>0</td>\n",
       "      <td>0</td>\n",
       "      <td>0</td>\n",
       "      <td>0</td>\n",
       "    </tr>\n",
       "    <tr>\n",
       "      <th>6</th>\n",
       "      <td>8.9514</td>\n",
       "      <td>2017-05-09 00:30:00</td>\n",
       "      <td>11.45</td>\n",
       "      <td>12.48</td>\n",
       "      <td>13.68</td>\n",
       "      <td>14.30</td>\n",
       "      <td>15.20</td>\n",
       "      <td>2395.00</td>\n",
       "      <td>1</td>\n",
       "      <td>9</td>\n",
       "      <td>...</td>\n",
       "      <td>0</td>\n",
       "      <td>0</td>\n",
       "      <td>0</td>\n",
       "      <td>0</td>\n",
       "      <td>0</td>\n",
       "      <td>0</td>\n",
       "      <td>0</td>\n",
       "      <td>0</td>\n",
       "      <td>0</td>\n",
       "      <td>0</td>\n",
       "    </tr>\n",
       "    <tr>\n",
       "      <th>7</th>\n",
       "      <td>8.9444</td>\n",
       "      <td>2017-05-09 00:40:00</td>\n",
       "      <td>11.43</td>\n",
       "      <td>12.45</td>\n",
       "      <td>13.68</td>\n",
       "      <td>14.30</td>\n",
       "      <td>15.20</td>\n",
       "      <td>2395.00</td>\n",
       "      <td>1</td>\n",
       "      <td>9</td>\n",
       "      <td>...</td>\n",
       "      <td>0</td>\n",
       "      <td>0</td>\n",
       "      <td>0</td>\n",
       "      <td>0</td>\n",
       "      <td>0</td>\n",
       "      <td>0</td>\n",
       "      <td>0</td>\n",
       "      <td>0</td>\n",
       "      <td>0</td>\n",
       "      <td>0</td>\n",
       "    </tr>\n",
       "    <tr>\n",
       "      <th>8</th>\n",
       "      <td>8.9375</td>\n",
       "      <td>2017-05-09 00:50:00</td>\n",
       "      <td>11.43</td>\n",
       "      <td>12.45</td>\n",
       "      <td>13.68</td>\n",
       "      <td>14.30</td>\n",
       "      <td>15.20</td>\n",
       "      <td>2395.00</td>\n",
       "      <td>1</td>\n",
       "      <td>9</td>\n",
       "      <td>...</td>\n",
       "      <td>0</td>\n",
       "      <td>0</td>\n",
       "      <td>0</td>\n",
       "      <td>0</td>\n",
       "      <td>0</td>\n",
       "      <td>0</td>\n",
       "      <td>0</td>\n",
       "      <td>0</td>\n",
       "      <td>0</td>\n",
       "      <td>0</td>\n",
       "    </tr>\n",
       "    <tr>\n",
       "      <th>9</th>\n",
       "      <td>8.9306</td>\n",
       "      <td>2017-05-09 01:00:00</td>\n",
       "      <td>11.43</td>\n",
       "      <td>12.47</td>\n",
       "      <td>13.68</td>\n",
       "      <td>14.30</td>\n",
       "      <td>15.20</td>\n",
       "      <td>2394.75</td>\n",
       "      <td>1</td>\n",
       "      <td>9</td>\n",
       "      <td>...</td>\n",
       "      <td>0</td>\n",
       "      <td>0</td>\n",
       "      <td>0</td>\n",
       "      <td>0</td>\n",
       "      <td>0</td>\n",
       "      <td>0</td>\n",
       "      <td>0</td>\n",
       "      <td>0</td>\n",
       "      <td>0</td>\n",
       "      <td>0</td>\n",
       "    </tr>\n",
       "    <tr>\n",
       "      <th>10</th>\n",
       "      <td>8.9236</td>\n",
       "      <td>2017-05-09 01:10:00</td>\n",
       "      <td>11.45</td>\n",
       "      <td>12.45</td>\n",
       "      <td>13.68</td>\n",
       "      <td>14.30</td>\n",
       "      <td>15.15</td>\n",
       "      <td>2395.00</td>\n",
       "      <td>1</td>\n",
       "      <td>9</td>\n",
       "      <td>...</td>\n",
       "      <td>0</td>\n",
       "      <td>0</td>\n",
       "      <td>0</td>\n",
       "      <td>0</td>\n",
       "      <td>0</td>\n",
       "      <td>0</td>\n",
       "      <td>0</td>\n",
       "      <td>0</td>\n",
       "      <td>0</td>\n",
       "      <td>0</td>\n",
       "    </tr>\n",
       "  </tbody>\n",
       "</table>\n",
       "<p>10 rows × 57 columns</p>\n",
       "</div>"
      ],
      "text/plain": [
       "    Time_To_Expiration                Date    UX1    UX2    UX3    UX4    UX5  \\\n",
       "1               8.9861 2017-05-08 23:40:00  11.43  12.45  13.68  14.34  15.18   \n",
       "2               8.9792 2017-05-08 23:50:00  11.43  12.48  13.67  14.30  15.20   \n",
       "3               8.9722 2017-05-09 00:00:00  11.43  12.48  13.68  14.30  15.20   \n",
       "4               8.9653 2017-05-09 00:10:00  11.43  12.45  13.68  14.30  15.20   \n",
       "5               8.9583 2017-05-09 00:20:00  11.45  12.48  13.68  14.30  15.20   \n",
       "6               8.9514 2017-05-09 00:30:00  11.45  12.48  13.68  14.30  15.20   \n",
       "7               8.9444 2017-05-09 00:40:00  11.43  12.45  13.68  14.30  15.20   \n",
       "8               8.9375 2017-05-09 00:50:00  11.43  12.45  13.68  14.30  15.20   \n",
       "9               8.9306 2017-05-09 01:00:00  11.43  12.47  13.68  14.30  15.20   \n",
       "10              8.9236 2017-05-09 01:10:00  11.45  12.45  13.68  14.30  15.15   \n",
       "\n",
       "      SP500  dow  dom  ...    dom_6  dom_7  dom_13  dom_14  dom_20  dom_21  \\\n",
       "1   2394.75    0    8  ...        0      0       0       0       0       0   \n",
       "2   2395.00    0    8  ...        0      0       0       0       0       0   \n",
       "3   2395.00    1    9  ...        0      0       0       0       0       0   \n",
       "4   2395.00    1    9  ...        0      0       0       0       0       0   \n",
       "5   2395.00    1    9  ...        0      0       0       0       0       0   \n",
       "6   2395.00    1    9  ...        0      0       0       0       0       0   \n",
       "7   2395.00    1    9  ...        0      0       0       0       0       0   \n",
       "8   2395.00    1    9  ...        0      0       0       0       0       0   \n",
       "9   2394.75    1    9  ...        0      0       0       0       0       0   \n",
       "10  2395.00    1    9  ...        0      0       0       0       0       0   \n",
       "\n",
       "    dom_27  dom_28  dom_3  dom_4  \n",
       "1        0       0      0      0  \n",
       "2        0       0      0      0  \n",
       "3        0       0      0      0  \n",
       "4        0       0      0      0  \n",
       "5        0       0      0      0  \n",
       "6        0       0      0      0  \n",
       "7        0       0      0      0  \n",
       "8        0       0      0      0  \n",
       "9        0       0      0      0  \n",
       "10       0       0      0      0  \n",
       "\n",
       "[10 rows x 57 columns]"
      ]
     },
     "execution_count": 25,
     "metadata": {},
     "output_type": "execute_result"
    }
   ],
   "source": [
    "x = df.iloc[i-11:i, :]\n",
    "dow_list = df.Date.dt.dayofweek.unique().tolist()\n",
    "print(dow_list)\n",
    "x.iloc[:10]#.loc[:, dow_list].values"
   ]
  },
  {
   "cell_type": "code",
   "execution_count": 26,
   "metadata": {
    "scrolled": true
   },
   "outputs": [
    {
     "data": {
      "text/plain": [
       "(10, 51)"
      ]
     },
     "execution_count": 26,
     "metadata": {},
     "output_type": "execute_result"
    }
   ],
   "source": [
    "X.shape"
   ]
  },
  {
   "cell_type": "code",
   "execution_count": 27,
   "metadata": {},
   "outputs": [
    {
     "data": {
      "text/plain": [
       "[0, 1, 2, 3, 4, 6]"
      ]
     },
     "execution_count": 27,
     "metadata": {},
     "output_type": "execute_result"
    }
   ],
   "source": [
    "df.Date.dt.dayofweek.unique().tolist()"
   ]
  },
  {
   "cell_type": "code",
   "execution_count": null,
   "metadata": {},
   "outputs": [],
   "source": []
  },
  {
   "cell_type": "code",
   "execution_count": 28,
   "metadata": {},
   "outputs": [
    {
     "name": "stdout",
     "output_type": "stream",
     "text": [
      "Wall time: 99.2 ms\n"
     ]
    }
   ],
   "source": [
    "%%time\n",
    "if os.path.exists(e_dir + \"X.npy\") and os.path.exists(e_dir + \"y.npy\"):\n",
    "    X = np.load(e_dir + \"X.npy\")\n",
    "    y = np.load(e_dir + \"y.npy\")\n",
    "else:    \n",
    "    Xs = []; ys=[]\n",
    "    for i in tqdm(np.arange(11, df.shape[0]-1)):\n",
    "    #     print(df.iloc[(i-11):i, :].shape)\n",
    "        X, y= create_xy_from_df(df.iloc[(i-11):i, :])\n",
    "        Xs.append(X)\n",
    "        ys.append(y)\n",
    "    X = np.stack(Xs)\n",
    "    y = np.stack(ys)\n",
    "    np.save(e_dir + \"X.npy\", X)\n",
    "    np.save(e_dir + \"y.npy\", y)"
   ]
  },
  {
   "cell_type": "code",
   "execution_count": 29,
   "metadata": {},
   "outputs": [
    {
     "data": {
      "text/plain": [
       "((49938, 10, 51), (49938, 5))"
      ]
     },
     "execution_count": 29,
     "metadata": {},
     "output_type": "execute_result"
    }
   ],
   "source": [
    "X.shape, y.shape"
   ]
  },
  {
   "cell_type": "raw",
   "metadata": {},
   "source": [
    "beta(5) - given from Moses\n",
    "y(5) - given from dataset\n",
    "X -> alpha(5) -> maximize(returns) under constraints. if possible minimize std of returns over dataset.\n",
    "\n",
    "constraint 1: alpha*beta=0: might be a soft constraint?\n",
    "\n",
    "returns: alpha*y - alpha*X[9, 0:4]\n",
    "\n",
    "sum_i ( alpha_i(t)*( UX_i(t+1) - UX_i(t) ) )\n",
    "\n",
    "modified returns to include constraints: (alpha*X[9, 0:4] - alpha*y) + a*(alpha*beta)^2 + b*(sum(abs(alpha))-200)^2"
   ]
  },
  {
   "cell_type": "code",
   "execution_count": 30,
   "metadata": {
    "scrolled": false
   },
   "outputs": [
    {
     "data": {
      "text/html": [
       "<div>\n",
       "<style scoped>\n",
       "    .dataframe tbody tr th:only-of-type {\n",
       "        vertical-align: middle;\n",
       "    }\n",
       "\n",
       "    .dataframe tbody tr th {\n",
       "        vertical-align: top;\n",
       "    }\n",
       "\n",
       "    .dataframe thead th {\n",
       "        text-align: right;\n",
       "    }\n",
       "</style>\n",
       "<table border=\"1\" class=\"dataframe\">\n",
       "  <thead>\n",
       "    <tr style=\"text-align: right;\">\n",
       "      <th></th>\n",
       "      <th>0</th>\n",
       "      <th>1</th>\n",
       "      <th>2</th>\n",
       "      <th>3</th>\n",
       "      <th>4</th>\n",
       "      <th>5</th>\n",
       "      <th>6</th>\n",
       "      <th>7</th>\n",
       "      <th>8</th>\n",
       "      <th>9</th>\n",
       "      <th>...</th>\n",
       "      <th>41</th>\n",
       "      <th>42</th>\n",
       "      <th>43</th>\n",
       "      <th>44</th>\n",
       "      <th>45</th>\n",
       "      <th>46</th>\n",
       "      <th>47</th>\n",
       "      <th>48</th>\n",
       "      <th>49</th>\n",
       "      <th>50</th>\n",
       "    </tr>\n",
       "  </thead>\n",
       "  <tbody>\n",
       "    <tr>\n",
       "      <th>0</th>\n",
       "      <td>11.43</td>\n",
       "      <td>12.45</td>\n",
       "      <td>13.68</td>\n",
       "      <td>14.34</td>\n",
       "      <td>15.18</td>\n",
       "      <td>0.03</td>\n",
       "      <td>0.00</td>\n",
       "      <td>0.00</td>\n",
       "      <td>-0.01</td>\n",
       "      <td>-0.02</td>\n",
       "      <td>...</td>\n",
       "      <td>0.0</td>\n",
       "      <td>0.0</td>\n",
       "      <td>0.0</td>\n",
       "      <td>0.0</td>\n",
       "      <td>0.0</td>\n",
       "      <td>0.0</td>\n",
       "      <td>0.0</td>\n",
       "      <td>0.0</td>\n",
       "      <td>0.0</td>\n",
       "      <td>0.0</td>\n",
       "    </tr>\n",
       "    <tr>\n",
       "      <th>1</th>\n",
       "      <td>11.43</td>\n",
       "      <td>12.48</td>\n",
       "      <td>13.67</td>\n",
       "      <td>14.30</td>\n",
       "      <td>15.20</td>\n",
       "      <td>0.00</td>\n",
       "      <td>0.03</td>\n",
       "      <td>-0.01</td>\n",
       "      <td>-0.04</td>\n",
       "      <td>0.02</td>\n",
       "      <td>...</td>\n",
       "      <td>0.0</td>\n",
       "      <td>0.0</td>\n",
       "      <td>0.0</td>\n",
       "      <td>0.0</td>\n",
       "      <td>0.0</td>\n",
       "      <td>0.0</td>\n",
       "      <td>0.0</td>\n",
       "      <td>0.0</td>\n",
       "      <td>0.0</td>\n",
       "      <td>0.0</td>\n",
       "    </tr>\n",
       "    <tr>\n",
       "      <th>2</th>\n",
       "      <td>11.43</td>\n",
       "      <td>12.48</td>\n",
       "      <td>13.68</td>\n",
       "      <td>14.30</td>\n",
       "      <td>15.20</td>\n",
       "      <td>0.00</td>\n",
       "      <td>0.00</td>\n",
       "      <td>0.01</td>\n",
       "      <td>0.00</td>\n",
       "      <td>0.00</td>\n",
       "      <td>...</td>\n",
       "      <td>0.0</td>\n",
       "      <td>0.0</td>\n",
       "      <td>0.0</td>\n",
       "      <td>0.0</td>\n",
       "      <td>0.0</td>\n",
       "      <td>0.0</td>\n",
       "      <td>0.0</td>\n",
       "      <td>0.0</td>\n",
       "      <td>0.0</td>\n",
       "      <td>0.0</td>\n",
       "    </tr>\n",
       "    <tr>\n",
       "      <th>3</th>\n",
       "      <td>11.43</td>\n",
       "      <td>12.45</td>\n",
       "      <td>13.68</td>\n",
       "      <td>14.30</td>\n",
       "      <td>15.20</td>\n",
       "      <td>0.00</td>\n",
       "      <td>-0.03</td>\n",
       "      <td>0.00</td>\n",
       "      <td>0.00</td>\n",
       "      <td>0.00</td>\n",
       "      <td>...</td>\n",
       "      <td>0.0</td>\n",
       "      <td>0.0</td>\n",
       "      <td>0.0</td>\n",
       "      <td>0.0</td>\n",
       "      <td>0.0</td>\n",
       "      <td>0.0</td>\n",
       "      <td>0.0</td>\n",
       "      <td>0.0</td>\n",
       "      <td>0.0</td>\n",
       "      <td>0.0</td>\n",
       "    </tr>\n",
       "    <tr>\n",
       "      <th>4</th>\n",
       "      <td>11.45</td>\n",
       "      <td>12.48</td>\n",
       "      <td>13.68</td>\n",
       "      <td>14.30</td>\n",
       "      <td>15.20</td>\n",
       "      <td>0.02</td>\n",
       "      <td>0.03</td>\n",
       "      <td>0.00</td>\n",
       "      <td>0.00</td>\n",
       "      <td>0.00</td>\n",
       "      <td>...</td>\n",
       "      <td>0.0</td>\n",
       "      <td>0.0</td>\n",
       "      <td>0.0</td>\n",
       "      <td>0.0</td>\n",
       "      <td>0.0</td>\n",
       "      <td>0.0</td>\n",
       "      <td>0.0</td>\n",
       "      <td>0.0</td>\n",
       "      <td>0.0</td>\n",
       "      <td>0.0</td>\n",
       "    </tr>\n",
       "    <tr>\n",
       "      <th>5</th>\n",
       "      <td>11.45</td>\n",
       "      <td>12.48</td>\n",
       "      <td>13.68</td>\n",
       "      <td>14.30</td>\n",
       "      <td>15.20</td>\n",
       "      <td>0.00</td>\n",
       "      <td>0.00</td>\n",
       "      <td>0.00</td>\n",
       "      <td>0.00</td>\n",
       "      <td>0.00</td>\n",
       "      <td>...</td>\n",
       "      <td>0.0</td>\n",
       "      <td>0.0</td>\n",
       "      <td>0.0</td>\n",
       "      <td>0.0</td>\n",
       "      <td>0.0</td>\n",
       "      <td>0.0</td>\n",
       "      <td>0.0</td>\n",
       "      <td>0.0</td>\n",
       "      <td>0.0</td>\n",
       "      <td>0.0</td>\n",
       "    </tr>\n",
       "    <tr>\n",
       "      <th>6</th>\n",
       "      <td>11.43</td>\n",
       "      <td>12.45</td>\n",
       "      <td>13.68</td>\n",
       "      <td>14.30</td>\n",
       "      <td>15.20</td>\n",
       "      <td>-0.02</td>\n",
       "      <td>-0.03</td>\n",
       "      <td>0.00</td>\n",
       "      <td>0.00</td>\n",
       "      <td>0.00</td>\n",
       "      <td>...</td>\n",
       "      <td>0.0</td>\n",
       "      <td>0.0</td>\n",
       "      <td>0.0</td>\n",
       "      <td>0.0</td>\n",
       "      <td>0.0</td>\n",
       "      <td>0.0</td>\n",
       "      <td>0.0</td>\n",
       "      <td>0.0</td>\n",
       "      <td>0.0</td>\n",
       "      <td>0.0</td>\n",
       "    </tr>\n",
       "    <tr>\n",
       "      <th>7</th>\n",
       "      <td>11.43</td>\n",
       "      <td>12.45</td>\n",
       "      <td>13.68</td>\n",
       "      <td>14.30</td>\n",
       "      <td>15.20</td>\n",
       "      <td>0.00</td>\n",
       "      <td>0.00</td>\n",
       "      <td>0.00</td>\n",
       "      <td>0.00</td>\n",
       "      <td>0.00</td>\n",
       "      <td>...</td>\n",
       "      <td>0.0</td>\n",
       "      <td>0.0</td>\n",
       "      <td>0.0</td>\n",
       "      <td>0.0</td>\n",
       "      <td>0.0</td>\n",
       "      <td>0.0</td>\n",
       "      <td>0.0</td>\n",
       "      <td>0.0</td>\n",
       "      <td>0.0</td>\n",
       "      <td>0.0</td>\n",
       "    </tr>\n",
       "    <tr>\n",
       "      <th>8</th>\n",
       "      <td>11.43</td>\n",
       "      <td>12.47</td>\n",
       "      <td>13.68</td>\n",
       "      <td>14.30</td>\n",
       "      <td>15.20</td>\n",
       "      <td>0.00</td>\n",
       "      <td>0.02</td>\n",
       "      <td>0.00</td>\n",
       "      <td>0.00</td>\n",
       "      <td>0.00</td>\n",
       "      <td>...</td>\n",
       "      <td>0.0</td>\n",
       "      <td>0.0</td>\n",
       "      <td>0.0</td>\n",
       "      <td>0.0</td>\n",
       "      <td>0.0</td>\n",
       "      <td>0.0</td>\n",
       "      <td>0.0</td>\n",
       "      <td>0.0</td>\n",
       "      <td>0.0</td>\n",
       "      <td>0.0</td>\n",
       "    </tr>\n",
       "    <tr>\n",
       "      <th>9</th>\n",
       "      <td>11.45</td>\n",
       "      <td>12.45</td>\n",
       "      <td>13.68</td>\n",
       "      <td>14.30</td>\n",
       "      <td>15.15</td>\n",
       "      <td>0.02</td>\n",
       "      <td>-0.02</td>\n",
       "      <td>0.00</td>\n",
       "      <td>0.00</td>\n",
       "      <td>-0.05</td>\n",
       "      <td>...</td>\n",
       "      <td>0.0</td>\n",
       "      <td>0.0</td>\n",
       "      <td>0.0</td>\n",
       "      <td>0.0</td>\n",
       "      <td>0.0</td>\n",
       "      <td>0.0</td>\n",
       "      <td>0.0</td>\n",
       "      <td>0.0</td>\n",
       "      <td>0.0</td>\n",
       "      <td>0.0</td>\n",
       "    </tr>\n",
       "  </tbody>\n",
       "</table>\n",
       "<p>10 rows × 51 columns</p>\n",
       "</div>"
      ],
      "text/plain": [
       "      0      1      2      3      4     5     6     7     8     9  ...    41  \\\n",
       "0  11.43  12.45  13.68  14.34  15.18  0.03  0.00  0.00 -0.01 -0.02 ...   0.0   \n",
       "1  11.43  12.48  13.67  14.30  15.20  0.00  0.03 -0.01 -0.04  0.02 ...   0.0   \n",
       "2  11.43  12.48  13.68  14.30  15.20  0.00  0.00  0.01  0.00  0.00 ...   0.0   \n",
       "3  11.43  12.45  13.68  14.30  15.20  0.00 -0.03  0.00  0.00  0.00 ...   0.0   \n",
       "4  11.45  12.48  13.68  14.30  15.20  0.02  0.03  0.00  0.00  0.00 ...   0.0   \n",
       "5  11.45  12.48  13.68  14.30  15.20  0.00  0.00  0.00  0.00  0.00 ...   0.0   \n",
       "6  11.43  12.45  13.68  14.30  15.20 -0.02 -0.03  0.00  0.00  0.00 ...   0.0   \n",
       "7  11.43  12.45  13.68  14.30  15.20  0.00  0.00  0.00  0.00  0.00 ...   0.0   \n",
       "8  11.43  12.47  13.68  14.30  15.20  0.00  0.02  0.00  0.00  0.00 ...   0.0   \n",
       "9  11.45  12.45  13.68  14.30  15.15  0.02 -0.02  0.00  0.00 -0.05 ...   0.0   \n",
       "\n",
       "    42   43   44   45   46   47   48   49   50  \n",
       "0  0.0  0.0  0.0  0.0  0.0  0.0  0.0  0.0  0.0  \n",
       "1  0.0  0.0  0.0  0.0  0.0  0.0  0.0  0.0  0.0  \n",
       "2  0.0  0.0  0.0  0.0  0.0  0.0  0.0  0.0  0.0  \n",
       "3  0.0  0.0  0.0  0.0  0.0  0.0  0.0  0.0  0.0  \n",
       "4  0.0  0.0  0.0  0.0  0.0  0.0  0.0  0.0  0.0  \n",
       "5  0.0  0.0  0.0  0.0  0.0  0.0  0.0  0.0  0.0  \n",
       "6  0.0  0.0  0.0  0.0  0.0  0.0  0.0  0.0  0.0  \n",
       "7  0.0  0.0  0.0  0.0  0.0  0.0  0.0  0.0  0.0  \n",
       "8  0.0  0.0  0.0  0.0  0.0  0.0  0.0  0.0  0.0  \n",
       "9  0.0  0.0  0.0  0.0  0.0  0.0  0.0  0.0  0.0  \n",
       "\n",
       "[10 rows x 51 columns]"
      ]
     },
     "execution_count": 30,
     "metadata": {},
     "output_type": "execute_result"
    }
   ],
   "source": [
    "pd.DataFrame(X[0])"
   ]
  },
  {
   "cell_type": "code",
   "execution_count": 31,
   "metadata": {},
   "outputs": [
    {
     "data": {
      "text/plain": [
       "array([11.44, 12.45, 13.68, 14.3 , 15.15])"
      ]
     },
     "execution_count": 31,
     "metadata": {},
     "output_type": "execute_result"
    }
   ],
   "source": [
    "y[0]"
   ]
  },
  {
   "cell_type": "code",
   "execution_count": 32,
   "metadata": {},
   "outputs": [],
   "source": [
    "import keras\n",
    "import torch\n",
    "import torchvision"
   ]
  },
  {
   "cell_type": "raw",
   "metadata": {},
   "source": [
    "[ux_vals, diffs, snp_vals, diff_snp, time_to_expiration, day_of_year, day_of_week_dummies, day_of_month_dummies]"
   ]
  },
  {
   "cell_type": "raw",
   "metadata": {},
   "source": [
    "# show diff_SNP\n",
    "df.iloc[i-11:i, [7, 16]]"
   ]
  },
  {
   "cell_type": "markdown",
   "metadata": {},
   "source": [
    "### Define Model"
   ]
  },
  {
   "cell_type": "code",
   "execution_count": 33,
   "metadata": {},
   "outputs": [],
   "source": [
    "class MiniConv2d(torch.nn.Module):\n",
    "    def __init__(self):\n",
    "        super(MiniConv2d, self).__init__()\n",
    "        self.conv1 = torch.nn.Conv2d(1, 5, 3, padding=1)\n",
    "        self.conv2 = torch.nn.Conv2d(5, 5, 3, padding=1)\n",
    "        self.conv3 = torch.nn.Conv2d(5, 5, 3, padding=1)\n",
    "        self.conv4 = torch.nn.Conv2d(5, 5, 3, padding=1)\n",
    "        self.conv5 = torch.nn.Conv2d(5, 5, 3, padding=1)\n",
    "        self.conv6 = torch.nn.Conv2d(5, 5, 3, padding=1)\n",
    "        self.conv7 = torch.nn.Conv2d(5, 5, 3, padding=1)\n",
    "    def forward(self, x):\n",
    "        x = self.conv1(x)\n",
    "        x = torch.nn.functional.relu(x)\n",
    "        x = self.conv2(x)\n",
    "        x = torch.nn.functional.relu(x)\n",
    "        x = self.conv3(x)\n",
    "        x = torch.nn.functional.relu(x)\n",
    "        x = self.conv4(x)\n",
    "        x = torch.nn.functional.relu(x)\n",
    "        x = self.conv5(x)\n",
    "        x = torch.nn.functional.relu(x)\n",
    "        x = self.conv6(x)\n",
    "        x = torch.nn.functional.relu(x)\n",
    "        x = self.conv7(x)\n",
    "        x = torch.nn.functional.relu(x)\n",
    "        \n",
    "        return x"
   ]
  },
  {
   "cell_type": "code",
   "execution_count": 34,
   "metadata": {},
   "outputs": [],
   "source": [
    "class MiniConv1d(torch.nn.Module):\n",
    "    def __init__(self):\n",
    "        super(MiniConv1d, self).__init__()\n",
    "        self.conv1 = torch.nn.Conv2d(1, 5, (3, 2), padding=(1, 1))\n",
    "        self.conv2 = torch.nn.Conv2d(5, 5, (3, 3), padding=(1, 1))\n",
    "        self.conv3 = torch.nn.Conv2d(5, 5, (3, 3), padding=(1, 1))\n",
    "        self.conv4 = torch.nn.Conv2d(5, 5, (3, 3), padding=(1, 1))\n",
    "        self.conv5 = torch.nn.Conv2d(5, 5, (3, 3), padding=(1, 1))\n",
    "        self.conv6 = torch.nn.Conv2d(5, 5, (3, 3), padding=(1, 1))\n",
    "        self.conv7 = torch.nn.Conv2d(5, 5, (3, 3), padding=(1, 1))\n",
    "        \n",
    "    def forward(self, x):\n",
    "        x = self.conv1(x)\n",
    "        x = torch.nn.functional.relu(x)\n",
    "        x = self.conv2(x)\n",
    "        x = torch.nn.functional.relu(x)\n",
    "        x = self.conv3(x)\n",
    "        x = torch.nn.functional.relu(x)\n",
    "        x = self.conv4(x)\n",
    "        x = torch.nn.functional.relu(x)\n",
    "        x = self.conv5(x)\n",
    "        x = torch.nn.functional.relu(x)\n",
    "        x = self.conv6(x)\n",
    "        x = torch.nn.functional.relu(x)\n",
    "        x = self.conv7(x)\n",
    "        x = torch.nn.functional.relu(x)\n",
    "        \n",
    "        return x"
   ]
  },
  {
   "cell_type": "code",
   "execution_count": 35,
   "metadata": {},
   "outputs": [],
   "source": [
    "class Embeddings(torch.nn.Module):\n",
    "    def __init__(self, n_categories, n_dims):\n",
    "        super(Embeddings, self).__init__()\n",
    "        self.embed = torch.nn.Embedding(n_categories, n_dims)\n",
    "        \n",
    "    def forward(self, x):\n",
    "        x = self.embed(x)\n",
    "        \n",
    "        return x"
   ]
  },
  {
   "cell_type": "code",
   "execution_count": 36,
   "metadata": {},
   "outputs": [],
   "source": [
    "class Model(torch.nn.Module):\n",
    "    def __init__(self):\n",
    "        super(Model, self).__init__()\n",
    "        self.mini_conv_ux = MiniConv2d()\n",
    "        self.mini_conv_ux_diffs = MiniConv2d()\n",
    "        self.mini_conv_snp = MiniConv1d()\n",
    "        self.embed_dow = Embeddings(6, 3)\n",
    "        self.embed_dom = Embeddings(31, 5)\n",
    "        \n",
    "        self.fc1 = torch.nn.Linear(730, 64)\n",
    "        self.fc2 = torch.nn.Linear(64, 32)\n",
    "        self.fc3 = torch.nn.Linear(32, 5)\n",
    "        \n",
    "        \n",
    "    def forward(self, x):\n",
    "        ux_vals = x[:, :, :5]\n",
    "        ux_vals = to_expanded_tensor(ux_vals)\n",
    "\n",
    "        ux_diffs = x[:, :, 5:10]\n",
    "        ux_diffs = to_expanded_tensor(ux_diffs)\n",
    "\n",
    "        snp_data = x[:, :, 10:12]\n",
    "        snp_data = to_expanded_tensor(snp_data)\n",
    "        \n",
    "        singles = x[:, :, 12:14]\n",
    "        singles = to_expanded_tensor(singles).squeeze()\n",
    "\n",
    "\n",
    "        dow_dummies = x[:, :, 14:20]\n",
    "        dow_dummies = to_expanded_tensor(dow_dummies).squeeze()\n",
    "\n",
    "        dom_dummies = x[:, :, 20:]\n",
    "        dom_dummies = to_expanded_tensor(dom_dummies).squeeze()\n",
    "        \n",
    "        x_ux = self.mini_conv_ux(ux_vals).view(x.shape[0], -1)\n",
    "        x_diffs = self.mini_conv_ux_diffs(ux_diffs).view(x.shape[0], -1)\n",
    "        x_snp = self.mini_conv_snp(snp_data).view(x.shape[0], -1)\n",
    "        x_dow = self.embed_dow((dow_dummies).argmax(dim=2)).view(x.shape[0], -1)\n",
    "        x_dom = self.embed_dom((dom_dummies).argmax(dim=2)).view(x.shape[0], -1)\n",
    "        \n",
    "        x = torch.cat((x_ux, x_diffs, x_snp, x_dom, x_dow), 1)\n",
    "        \n",
    "        x = torch.nn.functional.relu(self.fc1(x))\n",
    "        x = torch.nn.functional.relu(self.fc2(x))\n",
    "        x = self.fc3(x)\n",
    "        \n",
    "        return x"
   ]
  },
  {
   "cell_type": "markdown",
   "metadata": {},
   "source": [
    "### split train/test"
   ]
  },
  {
   "cell_type": "code",
   "execution_count": 43,
   "metadata": {},
   "outputs": [],
   "source": [
    "device = torch.device('cuda' if torch.cuda.is_available() else 'cpu')"
   ]
  },
  {
   "cell_type": "code",
   "execution_count": 44,
   "metadata": {},
   "outputs": [
    {
     "name": "stdout",
     "output_type": "stream",
     "text": [
      "Wall time: 98.8 ms\n"
     ]
    }
   ],
   "source": [
    "%%time\n",
    "if os.path.exists(e_dir + \"X.npy\") and os.path.exists(e_dir + \"y.npy\"):\n",
    "    X = np.load(e_dir + \"X.npy\")\n",
    "    y = np.load(e_dir + \"y.npy\")\n",
    "else:    \n",
    "    Xs = []; ys=[]\n",
    "    for i in tqdm(np.arange(11, df.shape[0]-1)):\n",
    "    #     print(df.iloc[(i-11):i, :].shape)\n",
    "        X, y= create_xy_from_df(df.iloc[(i-11):i, :])\n",
    "        Xs.append(X)\n",
    "        ys.append(y)\n",
    "    X = np.stack(Xs)\n",
    "    y = np.stack(ys)\n",
    "    np.save(e_dir + \"X.npy\", X)\n",
    "    np.save(e_dir + \"y.npy\", y)"
   ]
  },
  {
   "cell_type": "code",
   "execution_count": 45,
   "metadata": {},
   "outputs": [],
   "source": [
    "X = torch.Tensor(X)\n",
    "y = torch.Tensor(y)"
   ]
  },
  {
   "cell_type": "code",
   "execution_count": 46,
   "metadata": {},
   "outputs": [],
   "source": [
    "x = X[0:2]"
   ]
  },
  {
   "cell_type": "code",
   "execution_count": 47,
   "metadata": {},
   "outputs": [],
   "source": [
    "def to_expanded_tensor(x):\n",
    "#     x = np.expand_dims(x, 1)\n",
    "#     x = torch.Tensor(x)\n",
    "    x.unsqueeze_(1)\n",
    "    return x"
   ]
  },
  {
   "cell_type": "raw",
   "metadata": {},
   "source": [
    "x.shape\n",
    "to_expanded_tensor(x).shape"
   ]
  },
  {
   "cell_type": "raw",
   "metadata": {},
   "source": [
    "ux_vals = x[:, :, :5]\n",
    "ux_vals = to_expanded_tensor(ux_vals)\n",
    "\n",
    "ux_diffs = x[:, :, 5:10]\n",
    "ux_diffs = to_expanded_tensor(ux_diffs)\n",
    "\n",
    "snp_data = x[:, :, 10:12]\n",
    "snp_data = to_expanded_tensor(snp_data)\n",
    "\n",
    "dow_dummies = x[:, :, 14:20]\n",
    "dow_dummies = to_expanded_tensor(dow_dummies).squeeze()\n",
    "\n",
    "dom_dummies = x[:, :, 20:]\n",
    "dom_dummies = to_expanded_tensor(dom_dummies).squeeze()"
   ]
  },
  {
   "cell_type": "raw",
   "metadata": {},
   "source": [
    "dow_dummies\n",
    "# embed_dow(torch.Tensor(dow_dummies).argmax(dim=1)).view(x.shape[0], -1)\n",
    "# torch.DTensor(dow_dummies).argmax(dim=2)"
   ]
  },
  {
   "cell_type": "raw",
   "metadata": {},
   "source": [
    "ux_vals.shape\n",
    "ux_diffs.shape\n",
    "snp_data.shape\n",
    "dow_dummies.shape\n",
    "dom_dummies.shape"
   ]
  },
  {
   "cell_type": "code",
   "execution_count": 48,
   "metadata": {},
   "outputs": [],
   "source": [
    "from torch.utils.data import DataLoader\n",
    "from torch.utils.data import TensorDataset"
   ]
  },
  {
   "cell_type": "code",
   "execution_count": 49,
   "metadata": {},
   "outputs": [],
   "source": [
    "BATCH_SIZE = 64\n",
    "a=4\n",
    "b=1\n",
    "betas = torch.from_numpy(np.array([1.,2.,3.,4.,5.])).to(device)"
   ]
  },
  {
   "cell_type": "code",
   "execution_count": 50,
   "metadata": {},
   "outputs": [],
   "source": [
    "n_train = int(X.shape[0]*0.8)\n",
    "X_train = X[:n_train]\n",
    "y_train = y[:n_train]\n",
    "\n",
    "X_test = X[n_train:]\n",
    "y_test = y[n_train:]"
   ]
  },
  {
   "cell_type": "code",
   "execution_count": 51,
   "metadata": {},
   "outputs": [
    {
     "name": "stderr",
     "output_type": "stream",
     "text": [
      "C:\\ProgramData\\Miniconda3\\envs\\pytorch1\\lib\\site-packages\\ipykernel_launcher.py:1: UserWarning: To copy construct from a tensor, it is recommended to use sourceTensor.clone().detach() or sourceTensor.clone().detach().requires_grad_(True), rather than torch.tensor(sourceTensor).\n",
      "  \"\"\"Entry point for launching an IPython kernel.\n",
      "C:\\ProgramData\\Miniconda3\\envs\\pytorch1\\lib\\site-packages\\ipykernel_launcher.py:1: UserWarning: To copy construct from a tensor, it is recommended to use sourceTensor.clone().detach() or sourceTensor.clone().detach().requires_grad_(True), rather than torch.tensor(sourceTensor).\n",
      "  \"\"\"Entry point for launching an IPython kernel.\n",
      "C:\\ProgramData\\Miniconda3\\envs\\pytorch1\\lib\\site-packages\\ipykernel_launcher.py:5: UserWarning: To copy construct from a tensor, it is recommended to use sourceTensor.clone().detach() or sourceTensor.clone().detach().requires_grad_(True), rather than torch.tensor(sourceTensor).\n",
      "  \"\"\"\n",
      "C:\\ProgramData\\Miniconda3\\envs\\pytorch1\\lib\\site-packages\\ipykernel_launcher.py:5: UserWarning: To copy construct from a tensor, it is recommended to use sourceTensor.clone().detach() or sourceTensor.clone().detach().requires_grad_(True), rather than torch.tensor(sourceTensor).\n",
      "  \"\"\"\n"
     ]
    }
   ],
   "source": [
    "X_train, y_train = map(torch.tensor, (X_train, y_train))\n",
    "train_ds = TensorDataset(X_train, y_train)\n",
    "train_dl = DataLoader(train_ds, batch_size=BATCH_SIZE)\n",
    "\n",
    "X_test, y_test = map(torch.tensor, (X_test, y_test))\n",
    "test_ds = TensorDataset(X_test, y_test)\n",
    "test_dl = DataLoader(test_ds, batch_size=BATCH_SIZE)"
   ]
  },
  {
   "cell_type": "markdown",
   "metadata": {},
   "source": [
    "### Run Model"
   ]
  },
  {
   "cell_type": "code",
   "execution_count": 52,
   "metadata": {},
   "outputs": [],
   "source": [
    "model = Model()\n",
    "model = model.to(device)\n",
    "# model"
   ]
  },
  {
   "cell_type": "raw",
   "metadata": {},
   "source": [
    "model.forward(X_train[:BATCH_SIZE]).shape, X_train[:BATCH_SIZE].shape"
   ]
  },
  {
   "cell_type": "raw",
   "metadata": {},
   "source": [
    "for i in model.parameters():\n",
    "    print(i)"
   ]
  },
  {
   "cell_type": "code",
   "execution_count": 53,
   "metadata": {},
   "outputs": [],
   "source": [
    "def calc_loss(alphas, betas, x_batch, y_batch):\n",
    "    L1 = (alphas.abs().sum(dim=1)-200.)**2\n",
    "    L2 = ((alphas*betas).sum(dim=1))**2 \n",
    "    L3 = -((y_batch - x_batch[:, -1, :5])*alphas).sum()\n",
    "\n",
    "    L = (a*L1 + b*L2 + L3).sum()\n",
    "    \n",
    "    return L"
   ]
  },
  {
   "cell_type": "code",
   "execution_count": 60,
   "metadata": {},
   "outputs": [
    {
     "data": {
      "text/plain": [
       "(torch.float32, torch.float32, torch.float64, torch.float64)"
      ]
     },
     "execution_count": 60,
     "metadata": {},
     "output_type": "execute_result"
    }
   ],
   "source": [
    "x.dtype, y.dtype, betas.dtype, alphas.dtype"
   ]
  },
  {
   "cell_type": "code",
   "execution_count": 54,
   "metadata": {},
   "outputs": [],
   "source": [
    "optimizer = torch.optim.Adam(model.parameters())"
   ]
  },
  {
   "cell_type": "code",
   "execution_count": 55,
   "metadata": {},
   "outputs": [
    {
     "name": "stdout",
     "output_type": "stream",
     "text": [
      "<class 'torch.Tensor'>\n"
     ]
    },
    {
     "ename": "RuntimeError",
     "evalue": "expected type torch.DoubleTensor but got torch.cuda.DoubleTensor",
     "output_type": "error",
     "traceback": [
      "\u001b[1;31m---------------------------------------------------------------------------\u001b[0m",
      "\u001b[1;31mRuntimeError\u001b[0m                              Traceback (most recent call last)",
      "\u001b[1;32m<ipython-input-55-7c7a3ffee635>\u001b[0m in \u001b[0;36m<module>\u001b[1;34m()\u001b[0m\n\u001b[0;32m     11\u001b[0m         \u001b[0mprint\u001b[0m\u001b[1;33m(\u001b[0m\u001b[0mtype\u001b[0m\u001b[1;33m(\u001b[0m\u001b[0malphas\u001b[0m\u001b[1;33m)\u001b[0m\u001b[1;33m)\u001b[0m\u001b[1;33m\u001b[0m\u001b[0m\n\u001b[0;32m     12\u001b[0m \u001b[1;33m\u001b[0m\u001b[0m\n\u001b[1;32m---> 13\u001b[1;33m         \u001b[0mloss\u001b[0m \u001b[1;33m=\u001b[0m \u001b[0mcalc_loss\u001b[0m\u001b[1;33m(\u001b[0m\u001b[0malphas\u001b[0m\u001b[1;33m,\u001b[0m \u001b[0mbetas\u001b[0m\u001b[1;33m,\u001b[0m \u001b[0mx\u001b[0m\u001b[1;33m,\u001b[0m \u001b[0my\u001b[0m\u001b[1;33m)\u001b[0m\u001b[1;33m\u001b[0m\u001b[0m\n\u001b[0m\u001b[0;32m     14\u001b[0m \u001b[1;33m\u001b[0m\u001b[0m\n\u001b[0;32m     15\u001b[0m         \u001b[0moptimizer\u001b[0m\u001b[1;33m.\u001b[0m\u001b[0mzero_grad\u001b[0m\u001b[1;33m(\u001b[0m\u001b[1;33m)\u001b[0m\u001b[1;33m\u001b[0m\u001b[0m\n",
      "\u001b[1;32m<ipython-input-53-14531face73a>\u001b[0m in \u001b[0;36mcalc_loss\u001b[1;34m(alphas, betas, x_batch, y_batch)\u001b[0m\n\u001b[0;32m      1\u001b[0m \u001b[1;32mdef\u001b[0m \u001b[0mcalc_loss\u001b[0m\u001b[1;33m(\u001b[0m\u001b[0malphas\u001b[0m\u001b[1;33m,\u001b[0m \u001b[0mbetas\u001b[0m\u001b[1;33m,\u001b[0m \u001b[0mx_batch\u001b[0m\u001b[1;33m,\u001b[0m \u001b[0my_batch\u001b[0m\u001b[1;33m)\u001b[0m\u001b[1;33m:\u001b[0m\u001b[1;33m\u001b[0m\u001b[0m\n\u001b[0;32m      2\u001b[0m     \u001b[0mL1\u001b[0m \u001b[1;33m=\u001b[0m \u001b[1;33m(\u001b[0m\u001b[0malphas\u001b[0m\u001b[1;33m.\u001b[0m\u001b[0mabs\u001b[0m\u001b[1;33m(\u001b[0m\u001b[1;33m)\u001b[0m\u001b[1;33m.\u001b[0m\u001b[0msum\u001b[0m\u001b[1;33m(\u001b[0m\u001b[0mdim\u001b[0m\u001b[1;33m=\u001b[0m\u001b[1;36m1\u001b[0m\u001b[1;33m)\u001b[0m\u001b[1;33m-\u001b[0m\u001b[1;36m200.\u001b[0m\u001b[1;33m)\u001b[0m\u001b[1;33m**\u001b[0m\u001b[1;36m2\u001b[0m\u001b[1;33m\u001b[0m\u001b[0m\n\u001b[1;32m----> 3\u001b[1;33m     \u001b[0mL2\u001b[0m \u001b[1;33m=\u001b[0m \u001b[1;33m(\u001b[0m\u001b[1;33m(\u001b[0m\u001b[0malphas\u001b[0m\u001b[1;33m*\u001b[0m\u001b[0mbetas\u001b[0m\u001b[1;33m)\u001b[0m\u001b[1;33m.\u001b[0m\u001b[0msum\u001b[0m\u001b[1;33m(\u001b[0m\u001b[0mdim\u001b[0m\u001b[1;33m=\u001b[0m\u001b[1;36m1\u001b[0m\u001b[1;33m)\u001b[0m\u001b[1;33m)\u001b[0m\u001b[1;33m**\u001b[0m\u001b[1;36m2\u001b[0m\u001b[1;33m\u001b[0m\u001b[0m\n\u001b[0m\u001b[0;32m      4\u001b[0m     \u001b[0mL3\u001b[0m \u001b[1;33m=\u001b[0m \u001b[1;33m-\u001b[0m\u001b[1;33m(\u001b[0m\u001b[1;33m(\u001b[0m\u001b[0my_batch\u001b[0m \u001b[1;33m-\u001b[0m \u001b[0mx_batch\u001b[0m\u001b[1;33m[\u001b[0m\u001b[1;33m:\u001b[0m\u001b[1;33m,\u001b[0m \u001b[1;33m-\u001b[0m\u001b[1;36m1\u001b[0m\u001b[1;33m,\u001b[0m \u001b[1;33m:\u001b[0m\u001b[1;36m5\u001b[0m\u001b[1;33m]\u001b[0m\u001b[1;33m)\u001b[0m\u001b[1;33m*\u001b[0m\u001b[0malphas\u001b[0m\u001b[1;33m)\u001b[0m\u001b[1;33m.\u001b[0m\u001b[0msum\u001b[0m\u001b[1;33m(\u001b[0m\u001b[1;33m)\u001b[0m\u001b[1;33m\u001b[0m\u001b[0m\n\u001b[0;32m      5\u001b[0m \u001b[1;33m\u001b[0m\u001b[0m\n",
      "\u001b[1;31mRuntimeError\u001b[0m: expected type torch.DoubleTensor but got torch.cuda.DoubleTensor"
     ]
    }
   ],
   "source": [
    "\n",
    "for epoch in range(1):\n",
    "    idx = np.arange(n_train)\n",
    "    np.random.shuffle(idx)\n",
    "    X_train = X_train[idx]\n",
    "    y_train = y_train[idx]\n",
    "    for i, (x, y) in enumerate(train_dl):\n",
    "        x, y = x.to(device), y.to(device)\n",
    "#         print(x)\n",
    "        alphas = model(x).type(torch.DoubleTensor)\n",
    "        print(type(alphas))\n",
    "        \n",
    "        loss = calc_loss(alphas, betas, x, y)\n",
    "        \n",
    "        optimizer.zero_grad()\n",
    "        loss.backward()\n",
    "        optimizer.step()\n",
    "        \n",
    "        if i%10==0:\n",
    "            print(loss)\n",
    "#             model.eval()\n",
    "#             model\n"
   ]
  },
  {
   "cell_type": "code",
   "execution_count": null,
   "metadata": {},
   "outputs": [],
   "source": []
  },
  {
   "cell_type": "code",
   "execution_count": null,
   "metadata": {},
   "outputs": [],
   "source": []
  },
  {
   "cell_type": "code",
   "execution_count": null,
   "metadata": {},
   "outputs": [],
   "source": []
  },
  {
   "cell_type": "code",
   "execution_count": null,
   "metadata": {},
   "outputs": [],
   "source": []
  },
  {
   "cell_type": "code",
   "execution_count": null,
   "metadata": {},
   "outputs": [],
   "source": []
  },
  {
   "cell_type": "code",
   "execution_count": null,
   "metadata": {},
   "outputs": [],
   "source": []
  }
 ],
 "metadata": {
  "kernelspec": {
   "display_name": "pytorch1",
   "language": "python",
   "name": "pytorch1"
  },
  "language_info": {
   "codemirror_mode": {
    "name": "ipython",
    "version": 3
   },
   "file_extension": ".py",
   "mimetype": "text/x-python",
   "name": "python",
   "nbconvert_exporter": "python",
   "pygments_lexer": "ipython3",
   "version": "3.6.4"
  }
 },
 "nbformat": 4,
 "nbformat_minor": 2
}
