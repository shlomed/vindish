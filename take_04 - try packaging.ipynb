{
 "cells": [
  {
   "cell_type": "code",
   "execution_count": null,
   "metadata": {
    "scrolled": true
   },
   "outputs": [],
   "source": [
    "import pandas as pd\n",
    "import numpy as np\n",
    "from tqdm import tqdm\n",
    "import os\n",
    "\n",
    "import add_features\n",
    "\n",
    "from statsmodels.tsa.stattools import adfuller\n",
    "\n",
    "%matplotlib inline"
   ]
  },
  {
   "cell_type": "code",
   "execution_count": null,
   "metadata": {},
   "outputs": [],
   "source": [
    "c_dir = \"C://Users/shlomi/Documents/Work/vindish/data/\"\n",
    "e_dir = \"E:\\\\Work/Vindish/created_samples/\""
   ]
  },
  {
   "cell_type": "code",
   "execution_count": null,
   "metadata": {},
   "outputs": [],
   "source": [
    "df = pd.read_csv(c_dir+\"VIX Historical data 10 Min level since 2017 UX1_UX5.csv\")"
   ]
  },
  {
   "cell_type": "code",
   "execution_count": null,
   "metadata": {},
   "outputs": [],
   "source": [
    "df.head()"
   ]
  },
  {
   "cell_type": "code",
   "execution_count": null,
   "metadata": {},
   "outputs": [],
   "source": [
    "df[df.UX1.isnull()].head()"
   ]
  },
  {
   "cell_type": "code",
   "execution_count": null,
   "metadata": {},
   "outputs": [],
   "source": [
    "df.iloc[:, 2:7].plot()"
   ]
  },
  {
   "cell_type": "code",
   "execution_count": null,
   "metadata": {},
   "outputs": [],
   "source": [
    "df.iloc[0:50000:5000, 2:7].T.plot()"
   ]
  },
  {
   "cell_type": "code",
   "execution_count": null,
   "metadata": {},
   "outputs": [],
   "source": [
    "df = add_features.drop_rows_with_null_dates(df)"
   ]
  },
  {
   "cell_type": "code",
   "execution_count": null,
   "metadata": {},
   "outputs": [],
   "source": [
    "df.Date = pd.to_datetime(df.Date, dayfirst=True)"
   ]
  },
  {
   "cell_type": "code",
   "execution_count": null,
   "metadata": {},
   "outputs": [],
   "source": [
    "df = pd.concat([df, add_features.from_date_get_dow_dom_doy(df.Date)], axis=1)"
   ]
  },
  {
   "cell_type": "code",
   "execution_count": null,
   "metadata": {},
   "outputs": [],
   "source": [
    "df.head()"
   ]
  },
  {
   "cell_type": "code",
   "execution_count": null,
   "metadata": {},
   "outputs": [],
   "source": [
    "diff_cols = [i+\"_diff\" for i in df.iloc[:, 2:8].columns]\n",
    "df[diff_cols] = df.iloc[:, 2:8].diff()\n",
    "df = df.iloc[1:, :]"
   ]
  },
  {
   "cell_type": "code",
   "execution_count": null,
   "metadata": {},
   "outputs": [],
   "source": [
    "df[\"day_of_month\"] = df.Date.dt.day\n",
    "df[\"day_of_week\"] = df.Date.dt.dayofweek\n",
    "df[\"day_of_year\"] = df.Date.dt.dayofyear"
   ]
  },
  {
   "cell_type": "code",
   "execution_count": null,
   "metadata": {},
   "outputs": [],
   "source": [
    "df_dow = pd.get_dummies(df.day_of_week)\n",
    "df_dow_columns = [\"dow_\"+str(i) for i in df.day_of_week.unique().tolist()]\n",
    "df_dow.columns = df_dow_columns\n",
    "# df_dow\n",
    "df_dom = pd.get_dummies(df.day_of_month)\n",
    "df_dom_columns = [\"dom_\"+str(i) for i in df.day_of_month.unique().tolist()]\n",
    "df_dom.columns = df_dom_columns"
   ]
  },
  {
   "cell_type": "code",
   "execution_count": null,
   "metadata": {
    "scrolled": false
   },
   "outputs": [],
   "source": [
    "df = pd.concat([df, df_dow, df_dom], axis=1)"
   ]
  },
  {
   "cell_type": "raw",
   "metadata": {},
   "source": [
    "df.iloc[:, 2:14].head() # check diffs"
   ]
  },
  {
   "cell_type": "code",
   "execution_count": null,
   "metadata": {},
   "outputs": [],
   "source": [
    "df.memory_usage().sum()//1000000"
   ]
  },
  {
   "cell_type": "raw",
   "metadata": {},
   "source": [
    "df.day_of_week.value_counts(dropna=False)"
   ]
  },
  {
   "cell_type": "raw",
   "metadata": {},
   "source": [
    "adfuller(df.UX2.diff().values[1:])"
   ]
  },
  {
   "cell_type": "raw",
   "metadata": {},
   "source": [
    "adfuller(df.UX2)"
   ]
  },
  {
   "cell_type": "code",
   "execution_count": null,
   "metadata": {},
   "outputs": [],
   "source": [
    "rol = df.iloc[:, 2:7].rolling(window=1000)"
   ]
  },
  {
   "cell_type": "code",
   "execution_count": null,
   "metadata": {},
   "outputs": [],
   "source": [
    "x = df.iloc[:11]"
   ]
  },
  {
   "cell_type": "code",
   "execution_count": null,
   "metadata": {},
   "outputs": [],
   "source": [
    "rol.mean().plot()"
   ]
  },
  {
   "cell_type": "code",
   "execution_count": null,
   "metadata": {},
   "outputs": [],
   "source": [
    "ux_vals = x[[\"UX1\", \"UX2\", \"UX3\", \"UX4\", \"UX5\"]].iloc[:10].values\n",
    "ux_vals"
   ]
  },
  {
   "cell_type": "code",
   "execution_count": null,
   "metadata": {},
   "outputs": [],
   "source": [
    "dow_dummy = pd.get_dummies(x.day_of_week)#, columns=days_list)"
   ]
  },
  {
   "cell_type": "raw",
   "metadata": {},
   "source": [
    "dow_dummy"
   ]
  },
  {
   "cell_type": "raw",
   "metadata": {},
   "source": [
    "pd.get_dummies(x.day_of_month)"
   ]
  },
  {
   "cell_type": "code",
   "execution_count": null,
   "metadata": {},
   "outputs": [],
   "source": [
    "df.columns"
   ]
  },
  {
   "cell_type": "code",
   "execution_count": null,
   "metadata": {},
   "outputs": [],
   "source": [
    "def create_xy_from_df(x, verbose=False):\n",
    "    time_to_expiration = np.expand_dims(x.iloc[:10].loc[:, \"Time_To_Expiration\"].values, 1)\n",
    "    ux_vals = x.iloc[:10].loc[:, ['UX1', 'UX2', 'UX3', 'UX4','UX5']].values\n",
    "    snp_vals = np.expand_dims(x.iloc[:10].loc[:, \"SP500\"].values, 1)\n",
    "    day_of_year = np.expand_dims(x.iloc[:10].loc[:, \"day_of_year\"].values, 1)\n",
    "\n",
    "    day_of_week_dummies = x.iloc[:10].loc[:, df_dow_columns].values\n",
    "\n",
    "    day_of_month_dummies = x.iloc[:10].loc[:, df_dom_columns].values\n",
    "\n",
    "    diffs = x.iloc[:10].loc[:, diff_cols[:-1]].values\n",
    "    diff_snp = np.expand_dims(x.iloc[:10].loc[:, diff_cols[-1]].values, 1)\n",
    "\n",
    "    if verbose:\n",
    "        print(\"ux_vals.shape: \", ux_vals.shape)\n",
    "        print(\"diffs.shape: \", diffs.shape)\n",
    "        print(\"snp_vals.shape: \", snp_vals.shape)\n",
    "        print(\"diff_snp.shape: \", diff_snp.shape)\n",
    "        print(\"time_to_expiration.shape: \", time_to_expiration.shape)\n",
    "        print(\"day_of_year.shape: \", day_of_year.shape)\n",
    "        print(\"day_of_week_dummies.shape: \", day_of_week_dummies.shape)\n",
    "        print(\"day_of_month_dummies.shape: \", day_of_month_dummies.shape)\n",
    "\n",
    "    X = np.concatenate([ux_vals, diffs, snp_vals, diff_snp, time_to_expiration, day_of_year, day_of_week_dummies, day_of_month_dummies], axis=1)\n",
    "    y = x[[\"UX1\", \"UX2\", \"UX3\", \"UX4\", \"UX5\"]].iloc[10].values\n",
    "    \n",
    "    return X,y"
   ]
  },
  {
   "cell_type": "code",
   "execution_count": null,
   "metadata": {
    "scrolled": true
   },
   "outputs": [],
   "source": [
    "i=11\n",
    "X, y = create_xy_from_df(df.iloc[i-11:i, :], verbose=True)"
   ]
  },
  {
   "cell_type": "code",
   "execution_count": null,
   "metadata": {},
   "outputs": [],
   "source": [
    "x = df.iloc[i-11:i, :]\n",
    "dow_list = df.Date.dt.dayofweek.unique().tolist()\n",
    "print(dow_list)\n",
    "x.iloc[:10]#.loc[:, dow_list].values"
   ]
  },
  {
   "cell_type": "code",
   "execution_count": null,
   "metadata": {
    "scrolled": true
   },
   "outputs": [],
   "source": [
    "X.shape"
   ]
  },
  {
   "cell_type": "code",
   "execution_count": null,
   "metadata": {},
   "outputs": [],
   "source": [
    "df.Date.dt.dayofweek.unique().tolist()"
   ]
  },
  {
   "cell_type": "code",
   "execution_count": null,
   "metadata": {},
   "outputs": [],
   "source": []
  },
  {
   "cell_type": "code",
   "execution_count": null,
   "metadata": {},
   "outputs": [],
   "source": [
    "%%time\n",
    "if os.path.exists(e_dir + \"X.npy\") and os.path.exists(e_dir + \"y.npy\"):\n",
    "    X = np.load(e_dir + \"X.npy\")\n",
    "    y = np.load(e_dir + \"y.npy\")\n",
    "else:    \n",
    "    Xs = []; ys=[]\n",
    "    for i in tqdm(np.arange(11, df.shape[0]-1)):\n",
    "    #     print(df.iloc[(i-11):i, :].shape)\n",
    "        X, y= create_xy_from_df(df.iloc[(i-11):i, :])\n",
    "        Xs.append(X)\n",
    "        ys.append(y)\n",
    "    X = np.stack(Xs)\n",
    "    y = np.stack(ys)\n",
    "    np.save(e_dir + \"X.npy\", X)\n",
    "    np.save(e_dir + \"y.npy\", y)"
   ]
  },
  {
   "cell_type": "code",
   "execution_count": null,
   "metadata": {},
   "outputs": [],
   "source": [
    "X.shape, y.shape"
   ]
  },
  {
   "cell_type": "raw",
   "metadata": {},
   "source": [
    "beta(5) - given from Moses\n",
    "y(5) - given from dataset\n",
    "X -> alpha(5) -> maximize(returns) under constraints. if possible minimize std of returns over dataset.\n",
    "\n",
    "constraint 1: alpha*beta=0: might be a soft constraint?\n",
    "\n",
    "returns: alpha*y - alpha*X[9, 0:4]\n",
    "\n",
    "sum_i ( alpha_i(t)*( UX_i(t+1) - UX_i(t) ) )\n",
    "\n",
    "modified returns to include constraints: (alpha*X[9, 0:4] - alpha*y) + a*(alpha*beta)^2 + b*(sum(abs(alpha))-200)^2"
   ]
  },
  {
   "cell_type": "code",
   "execution_count": null,
   "metadata": {
    "scrolled": false
   },
   "outputs": [],
   "source": [
    "pd.DataFrame(X[0])"
   ]
  },
  {
   "cell_type": "code",
   "execution_count": null,
   "metadata": {},
   "outputs": [],
   "source": []
  },
  {
   "cell_type": "code",
   "execution_count": null,
   "metadata": {},
   "outputs": [],
   "source": [
    "import keras\n",
    "import torch"
   ]
  },
  {
   "cell_type": "raw",
   "metadata": {},
   "source": [
    "[ux_vals, diffs, snp_vals, diff_snp, time_to_expiration, day_of_year, day_of_week_dummies, day_of_month_dummies]"
   ]
  },
  {
   "cell_type": "raw",
   "metadata": {},
   "source": [
    "# show diff_SNP\n",
    "df.iloc[i-11:i, [7, 16]]"
   ]
  },
  {
   "cell_type": "code",
   "execution_count": null,
   "metadata": {},
   "outputs": [],
   "source": [
    "x = X[0]"
   ]
  },
  {
   "cell_type": "code",
   "execution_count": null,
   "metadata": {},
   "outputs": [],
   "source": [
    "def to_expanded_tensor(x):\n",
    "    x = np.expand_dims(x, 0)\n",
    "    x = np.expand_dims(x, 0)\n",
    "    x = torch.Tensor(x)\n",
    "    return x"
   ]
  },
  {
   "cell_type": "code",
   "execution_count": null,
   "metadata": {},
   "outputs": [],
   "source": [
    "ux_vals = x[:,:5]\n",
    "ux_vals = to_expanded_tensor(ux_vals)\n",
    "\n",
    "ux_diffs = x[:, 5:10]\n",
    "ux_diffs = to_expanded_tensor(ux_diffs)\n",
    "\n",
    "snp_data = x[:, 10:12]\n",
    "snp_data = to_expanded_tensor(snp_data)"
   ]
  },
  {
   "cell_type": "raw",
   "metadata": {},
   "source": [
    "conv1 = torch.nn.Conv2d(1, 5, 3, padding=1)\n",
    "conv2 = torch.nn.Conv2d(5, 5, 3, padding=1)\n",
    "conv3 = torch.nn.Conv2d(5, 5, 3, padding=1)\n",
    "conv4 = torch.nn.Conv2d(5, 5, 3, padding=1)\n",
    "conv5 = torch.nn.Conv2d(5, 5, 3, padding=1)\n",
    "conv6 = torch.nn.Conv2d(5, 5, 3, padding=1)\n",
    "conv7 = torch.nn.Conv2d(5, 5, 3, padding=1)"
   ]
  },
  {
   "cell_type": "raw",
   "metadata": {},
   "source": [
    "x = conv1(ux_vals)\n",
    "x = torch.nn.functional.relu(x)\n",
    "x = conv2(x)\n",
    "x = torch.nn.functional.relu(x)\n",
    "x = conv3(x)\n",
    "x = torch.nn.functional.relu(x)\n",
    "x = conv4(x)\n",
    "x = torch.nn.functional.relu(x)\n",
    "x = conv5(x)\n",
    "x = torch.nn.functional.relu(x)\n",
    "x = conv6(x)\n",
    "x = torch.nn.functional.relu(x)\n",
    "x = conv7(x)\n",
    "x = torch.nn.functional.relu(x)"
   ]
  },
  {
   "cell_type": "code",
   "execution_count": null,
   "metadata": {},
   "outputs": [],
   "source": [
    "x.shape"
   ]
  },
  {
   "cell_type": "code",
   "execution_count": null,
   "metadata": {},
   "outputs": [],
   "source": [
    "class MiniConv2d(torch.nn.Module):\n",
    "    def __init__(self):\n",
    "        super(MiniConv2d, self).__init__()\n",
    "        conv1 = torch.nn.Conv2d(1, 5, 3, padding=1)\n",
    "        conv2 = torch.nn.Conv2d(5, 5, 3, padding=1)\n",
    "        conv3 = torch.nn.Conv2d(5, 5, 3, padding=1)\n",
    "        conv4 = torch.nn.Conv2d(5, 5, 3, padding=1)\n",
    "        conv5 = torch.nn.Conv2d(5, 5, 3, padding=1)\n",
    "        conv6 = torch.nn.Conv2d(5, 5, 3, padding=1)\n",
    "        conv7 = torch.nn.Conv2d(5, 5, 3, padding=1)\n",
    "    def forward(self, x):\n",
    "        x = conv1(x)\n",
    "        x = torch.nn.functional.relu(x)\n",
    "        x = conv2(x)\n",
    "        x = torch.nn.functional.relu(x)\n",
    "        x = conv3(x)\n",
    "        x = torch.nn.functional.relu(x)\n",
    "        x = conv4(x)\n",
    "        x = torch.nn.functional.relu(x)\n",
    "        x = conv5(x)\n",
    "        x = torch.nn.functional.relu(x)\n",
    "        x = conv6(x)\n",
    "        x = torch.nn.functional.relu(x)\n",
    "        x = conv7(x)\n",
    "        x = torch.nn.functional.relu(x)\n",
    "        \n",
    "        return x"
   ]
  },
  {
   "cell_type": "code",
   "execution_count": null,
   "metadata": {},
   "outputs": [],
   "source": [
    "class MiniConv1d(torch.nn.Module):\n",
    "    def __init__(self):\n",
    "        super(MiniConv1d, self).__init__()\n",
    "        conv1 = torch.nn.Conv1d(1, 5, 3, padding=1)\n",
    "        conv2 = torch.nn.Conv1d(5, 5, 3, padding=1)\n",
    "        conv3 = torch.nn.Conv1d(5, 5, 3, padding=1)\n",
    "        conv4 = torch.nn.Conv1d(5, 5, 3, padding=1)\n",
    "        conv5 = torch.nn.Conv1d(5, 5, 3, padding=1)\n",
    "        conv6 = torch.nn.Conv1d(5, 5, 3, padding=1)\n",
    "        conv7 = torch.nn.Conv1d(5, 5, 3, padding=1)\n",
    "    def forward(self, x):\n",
    "        x = conv1(x)\n",
    "        x = torch.nn.functional.relu(x)\n",
    "        x = conv2(x)\n",
    "        x = torch.nn.functional.relu(x)\n",
    "        x = conv3(x)\n",
    "        x = torch.nn.functional.relu(x)\n",
    "        x = conv4(x)\n",
    "        x = torch.nn.functional.relu(x)\n",
    "        x = conv5(x)\n",
    "        x = torch.nn.functional.relu(x)\n",
    "        x = conv6(x)\n",
    "        x = torch.nn.functional.relu(x)\n",
    "        x = conv7(x)\n",
    "        x = torch.nn.functional.relu(x)\n",
    "        \n",
    "        return x"
   ]
  },
  {
   "cell_type": "code",
   "execution_count": null,
   "metadata": {},
   "outputs": [],
   "source": [
    "mini_conv_ux = MiniConv2d()\n",
    "mini_conv_ux_diffs = MiniConv2d()\n",
    "mini_conv_snp = MiniConv1d()"
   ]
  },
  {
   "cell_type": "code",
   "execution_count": null,
   "metadata": {},
   "outputs": [],
   "source": [
    "mini_conv_ux(ux_vals).shape\n",
    "mini_conv_ux_diffs(ux_diffs).shape\n",
    "mini_conv_snp(snp_data).shape"
   ]
  },
  {
   "cell_type": "code",
   "execution_count": null,
   "metadata": {},
   "outputs": [],
   "source": []
  }
 ],
 "metadata": {
  "kernelspec": {
   "display_name": "pytorch1",
   "language": "python",
   "name": "pytorch1"
  },
  "language_info": {
   "codemirror_mode": {
    "name": "ipython",
    "version": 3
   },
   "file_extension": ".py",
   "mimetype": "text/x-python",
   "name": "python",
   "nbconvert_exporter": "python",
   "pygments_lexer": "ipython3",
   "version": "3.6.4"
  }
 },
 "nbformat": 4,
 "nbformat_minor": 2
}
